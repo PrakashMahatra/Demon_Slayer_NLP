{
 "cells": [
  {
   "cell_type": "markdown",
   "metadata": {
    "id": "u0qfi0nidPcW"
   },
   "source": [
    "## Install requirements"
   ]
  },
  {
   "cell_type": "code",
   "execution_count": 1,
   "metadata": {
    "colab": {
     "base_uri": "https://localhost:8080/"
    },
    "id": "HOluzVpD1iw_",
    "outputId": "82b394d9-3f95-479b-8da7-e93d2afe3ab5"
   },
   "outputs": [
    {
     "name": "stdout",
     "output_type": "stream",
     "text": [
      "Requirement already satisfied: transformers in c:\\users\\91971\\anaconda3\\lib\\site-packages (4.28.1)\n",
      "Requirement already satisfied: filelock in c:\\users\\91971\\anaconda3\\lib\\site-packages (from transformers) (3.0.12)\n",
      "Requirement already satisfied: huggingface-hub<1.0,>=0.11.0 in c:\\users\\91971\\anaconda3\\lib\\site-packages (from transformers) (0.23.0)\n",
      "Requirement already satisfied: numpy>=1.17 in c:\\users\\91971\\anaconda3\\lib\\site-packages (from transformers) (1.23.5)\n",
      "Requirement already satisfied: packaging>=20.0 in c:\\users\\91971\\anaconda3\\lib\\site-packages (from transformers) (24.0)\n",
      "Requirement already satisfied: pyyaml>=5.1 in c:\\users\\91971\\anaconda3\\lib\\site-packages (from transformers) (5.3.1)\n",
      "Requirement already satisfied: regex!=2019.12.17 in c:\\users\\91971\\anaconda3\\lib\\site-packages (from transformers) (2024.5.15)\n",
      "Requirement already satisfied: requests in c:\\users\\91971\\anaconda3\\lib\\site-packages (from transformers) (2.24.0)\n",
      "Requirement already satisfied: tokenizers!=0.11.3,<0.14,>=0.11.1 in c:\\users\\91971\\anaconda3\\lib\\site-packages (from transformers) (0.13.3)\n",
      "Requirement already satisfied: tqdm>=4.27 in c:\\users\\91971\\anaconda3\\lib\\site-packages (from transformers) (4.66.4)\n",
      "Requirement already satisfied: fsspec>=2023.5.0 in c:\\users\\91971\\anaconda3\\lib\\site-packages (from huggingface-hub<1.0,>=0.11.0->transformers) (2024.3.1)\n",
      "Requirement already satisfied: typing-extensions>=3.7.4.3 in c:\\users\\91971\\anaconda3\\lib\\site-packages (from huggingface-hub<1.0,>=0.11.0->transformers) (4.11.0)\n",
      "Requirement already satisfied: colorama in c:\\users\\91971\\anaconda3\\lib\\site-packages (from tqdm>=4.27->transformers) (0.4.6)\n",
      "Requirement already satisfied: chardet<4,>=3.0.2 in c:\\users\\91971\\anaconda3\\lib\\site-packages (from requests->transformers) (3.0.4)\n",
      "Requirement already satisfied: idna<3,>=2.5 in c:\\users\\91971\\anaconda3\\lib\\site-packages (from requests->transformers) (2.10)\n",
      "Requirement already satisfied: urllib3!=1.25.0,!=1.25.1,<1.26,>=1.21.1 in c:\\users\\91971\\anaconda3\\lib\\site-packages (from requests->transformers) (1.25.11)\n",
      "Requirement already satisfied: certifi>=2017.4.17 in c:\\users\\91971\\anaconda3\\lib\\site-packages (from requests->transformers) (2024.2.2)\n"
     ]
    },
    {
     "name": "stderr",
     "output_type": "stream",
     "text": [
      "DEPRECATION: pyodbc 4.0.0-unsupported has a non-standard version number. pip 24.1 will enforce this behaviour change. A possible replacement is to upgrade to a newer version of pyodbc or contact the author to suggest that they release a version with a conforming version number. Discussion can be found at https://github.com/pypa/pip/issues/12063\n"
     ]
    },
    {
     "name": "stdout",
     "output_type": "stream",
     "text": [
      "Requirement already satisfied: datasets in c:\\users\\91971\\anaconda3\\lib\\site-packages (2.19.1)"
     ]
    },
    {
     "name": "stderr",
     "output_type": "stream",
     "text": [
      "DEPRECATION: pyodbc 4.0.0-unsupported has a non-standard version number. pip 24.1 will enforce this behaviour change. A possible replacement is to upgrade to a newer version of pyodbc or contact the author to suggest that they release a version with a conforming version number. Discussion can be found at https://github.com/pypa/pip/issues/12063\n"
     ]
    },
    {
     "name": "stdout",
     "output_type": "stream",
     "text": [
      "\n",
      "Requirement already satisfied: filelock in c:\\users\\91971\\anaconda3\\lib\\site-packages (from datasets) (3.0.12)\n",
      "Requirement already satisfied: numpy>=1.17 in c:\\users\\91971\\anaconda3\\lib\\site-packages (from datasets) (1.23.5)\n",
      "Requirement already satisfied: pyarrow>=12.0.0 in c:\\users\\91971\\anaconda3\\lib\\site-packages (from datasets) (16.1.0)\n",
      "Requirement already satisfied: pyarrow-hotfix in c:\\users\\91971\\anaconda3\\lib\\site-packages (from datasets) (0.6)\n",
      "Requirement already satisfied: dill<0.3.9,>=0.3.0 in c:\\users\\91971\\anaconda3\\lib\\site-packages (from datasets) (0.3.8)\n",
      "Requirement already satisfied: pandas in c:\\users\\91971\\anaconda3\\lib\\site-packages (from datasets) (1.1.3)\n",
      "Requirement already satisfied: requests>=2.19.0 in c:\\users\\91971\\anaconda3\\lib\\site-packages (from datasets) (2.24.0)\n",
      "Requirement already satisfied: tqdm>=4.62.1 in c:\\users\\91971\\anaconda3\\lib\\site-packages (from datasets) (4.66.4)\n",
      "Requirement already satisfied: xxhash in c:\\users\\91971\\anaconda3\\lib\\site-packages (from datasets) (3.4.1)\n",
      "Requirement already satisfied: multiprocess in c:\\users\\91971\\anaconda3\\lib\\site-packages (from datasets) (0.70.16)\n",
      "Requirement already satisfied: fsspec<=2024.3.1,>=2023.1.0 in c:\\users\\91971\\anaconda3\\lib\\site-packages (from fsspec[http]<=2024.3.1,>=2023.1.0->datasets) (2024.3.1)\n",
      "Requirement already satisfied: aiohttp in c:\\users\\91971\\anaconda3\\lib\\site-packages (from datasets) (3.9.5)\n",
      "Requirement already satisfied: huggingface-hub>=0.21.2 in c:\\users\\91971\\anaconda3\\lib\\site-packages (from datasets) (0.23.0)\n",
      "Requirement already satisfied: packaging in c:\\users\\91971\\anaconda3\\lib\\site-packages (from datasets) (24.0)\n",
      "Requirement already satisfied: pyyaml>=5.1 in c:\\users\\91971\\anaconda3\\lib\\site-packages (from datasets) (5.3.1)\n",
      "Requirement already satisfied: aiosignal>=1.1.2 in c:\\users\\91971\\anaconda3\\lib\\site-packages (from aiohttp->datasets) (1.3.1)\n",
      "Requirement already satisfied: attrs>=17.3.0 in c:\\users\\91971\\anaconda3\\lib\\site-packages (from aiohttp->datasets) (23.2.0)\n",
      "Requirement already satisfied: frozenlist>=1.1.1 in c:\\users\\91971\\anaconda3\\lib\\site-packages (from aiohttp->datasets) (1.4.1)\n",
      "Requirement already satisfied: multidict<7.0,>=4.5 in c:\\users\\91971\\anaconda3\\lib\\site-packages (from aiohttp->datasets) (6.0.5)\n",
      "Requirement already satisfied: yarl<2.0,>=1.0 in c:\\users\\91971\\anaconda3\\lib\\site-packages (from aiohttp->datasets) (1.9.4)\n",
      "Requirement already satisfied: async-timeout<5.0,>=4.0 in c:\\users\\91971\\anaconda3\\lib\\site-packages (from aiohttp->datasets) (4.0.3)\n",
      "Requirement already satisfied: typing-extensions>=3.7.4.3 in c:\\users\\91971\\anaconda3\\lib\\site-packages (from huggingface-hub>=0.21.2->datasets) (4.11.0)\n",
      "Requirement already satisfied: chardet<4,>=3.0.2 in c:\\users\\91971\\anaconda3\\lib\\site-packages (from requests>=2.19.0->datasets) (3.0.4)\n",
      "Requirement already satisfied: idna<3,>=2.5 in c:\\users\\91971\\anaconda3\\lib\\site-packages (from requests>=2.19.0->datasets) (2.10)\n",
      "Requirement already satisfied: urllib3!=1.25.0,!=1.25.1,<1.26,>=1.21.1 in c:\\users\\91971\\anaconda3\\lib\\site-packages (from requests>=2.19.0->datasets) (1.25.11)\n",
      "Requirement already satisfied: certifi>=2017.4.17 in c:\\users\\91971\\anaconda3\\lib\\site-packages (from requests>=2.19.0->datasets) (2024.2.2)\n",
      "Requirement already satisfied: colorama in c:\\users\\91971\\anaconda3\\lib\\site-packages (from tqdm>=4.62.1->datasets) (0.4.6)\n",
      "Requirement already satisfied: python-dateutil>=2.7.3 in c:\\users\\91971\\anaconda3\\lib\\site-packages (from pandas->datasets) (2.8.1)\n",
      "Requirement already satisfied: pytz>=2017.2 in c:\\users\\91971\\anaconda3\\lib\\site-packages (from pandas->datasets) (2020.1)\n",
      "Requirement already satisfied: six>=1.5 in c:\\users\\91971\\anaconda3\\lib\\site-packages (from python-dateutil>=2.7.3->pandas->datasets) (1.15.0)\n",
      "Requirement already satisfied: pandas in c:\\users\\91971\\anaconda3\\lib\\site-packages (1.1.3)"
     ]
    },
    {
     "name": "stderr",
     "output_type": "stream",
     "text": [
      "DEPRECATION: pyodbc 4.0.0-unsupported has a non-standard version number. pip 24.1 will enforce this behaviour change. A possible replacement is to upgrade to a newer version of pyodbc or contact the author to suggest that they release a version with a conforming version number. Discussion can be found at https://github.com/pypa/pip/issues/12063\n",
      "ERROR: pip's dependency resolver does not currently take into account all the packages that are installed. This behaviour is the source of the following dependency conflicts.\n",
      "spyder 4.1.5 requires pyqt5<5.13; python_version >= \"3\", which is not installed.\n",
      "spyder 4.1.5 requires pyqtwebengine<5.13; python_version >= \"3\", which is not installed.\n"
     ]
    },
    {
     "name": "stdout",
     "output_type": "stream",
     "text": [
      "\n",
      "Collecting pandas\n",
      "  Downloading pandas-2.0.3-cp38-cp38-win_amd64.whl.metadata (18 kB)\n",
      "Collecting python-dateutil>=2.8.2 (from pandas)\n",
      "  Downloading python_dateutil-2.9.0.post0-py2.py3-none-any.whl.metadata (8.4 kB)\n",
      "Requirement already satisfied: pytz>=2020.1 in c:\\users\\91971\\anaconda3\\lib\\site-packages (from pandas) (2020.1)\n",
      "Collecting tzdata>=2022.1 (from pandas)\n",
      "  Downloading tzdata-2024.1-py2.py3-none-any.whl.metadata (1.4 kB)\n",
      "Requirement already satisfied: numpy>=1.20.3 in c:\\users\\91971\\anaconda3\\lib\\site-packages (from pandas) (1.23.5)\n",
      "Requirement already satisfied: six>=1.5 in c:\\users\\91971\\anaconda3\\lib\\site-packages (from python-dateutil>=2.8.2->pandas) (1.15.0)\n",
      "Downloading pandas-2.0.3-cp38-cp38-win_amd64.whl (10.8 MB)\n",
      "   ---------------------------------------- 10.8/10.8 MB 12.3 MB/s eta 0:00:00\n",
      "Downloading python_dateutil-2.9.0.post0-py2.py3-none-any.whl (229 kB)\n",
      "   --------------------------------------- 229.9/229.9 kB 14.6 MB/s eta 0:00:00\n",
      "Downloading tzdata-2024.1-py2.py3-none-any.whl (345 kB)\n",
      "   --------------------------------------- 345.4/345.4 kB 10.8 MB/s eta 0:00:00\n",
      "Installing collected packages: tzdata, python-dateutil, pandas\n",
      "  Attempting uninstall: python-dateutil\n",
      "    Found existing installation: python-dateutil 2.8.1\n",
      "    Uninstalling python-dateutil-2.8.1:\n",
      "      Successfully uninstalled python-dateutil-2.8.1\n",
      "  Attempting uninstall: pandas\n",
      "    Found existing installation: pandas 1.1.3\n",
      "    Uninstalling pandas-1.1.3:\n",
      "      Successfully uninstalled pandas-1.1.3\n",
      "Successfully installed pandas-2.0.3 python-dateutil-2.9.0.post0 tzdata-2024.1\n",
      "Requirement already satisfied: evaluate in c:\\users\\91971\\anaconda3\\lib\\site-packages (0.4.2)\n",
      "Requirement already satisfied: datasets>=2.0.0 in c:\\users\\91971\\anaconda3\\lib\\site-packages (from evaluate) (2.19.1)\n",
      "Requirement already satisfied: numpy>=1.17 in c:\\users\\91971\\anaconda3\\lib\\site-packages (from evaluate) (1.23.5)\n",
      "Requirement already satisfied: dill in c:\\users\\91971\\anaconda3\\lib\\site-packages (from evaluate) (0.3.8)\n",
      "Requirement already satisfied: pandas in c:\\users\\91971\\anaconda3\\lib\\site-packages (from evaluate) (2.0.3)\n",
      "Requirement already satisfied: requests>=2.19.0 in c:\\users\\91971\\anaconda3\\lib\\site-packages (from evaluate) (2.24.0)\n",
      "Requirement already satisfied: tqdm>=4.62.1 in c:\\users\\91971\\anaconda3\\lib\\site-packages (from evaluate) (4.66.4)\n",
      "Requirement already satisfied: xxhash in c:\\users\\91971\\anaconda3\\lib\\site-packages (from evaluate) (3.4.1)\n",
      "Requirement already satisfied: multiprocess in c:\\users\\91971\\anaconda3\\lib\\site-packages (from evaluate) (0.70.16)\n",
      "Requirement already satisfied: fsspec>=2021.05.0 in c:\\users\\91971\\anaconda3\\lib\\site-packages (from fsspec[http]>=2021.05.0->evaluate) (2024.3.1)\n",
      "Requirement already satisfied: huggingface-hub>=0.7.0 in c:\\users\\91971\\anaconda3\\lib\\site-packages (from evaluate) (0.23.0)\n",
      "Requirement already satisfied: packaging in c:\\users\\91971\\anaconda3\\lib\\site-packages (from evaluate) (24.0)\n",
      "Requirement already satisfied: filelock in c:\\users\\91971\\anaconda3\\lib\\site-packages (from datasets>=2.0.0->evaluate) (3.0.12)\n",
      "Requirement already satisfied: pyarrow>=12.0.0 in c:\\users\\91971\\anaconda3\\lib\\site-packages (from datasets>=2.0.0->evaluate) (16.1.0)\n",
      "Requirement already satisfied: pyarrow-hotfix in c:\\users\\91971\\anaconda3\\lib\\site-packages (from datasets>=2.0.0->evaluate) (0.6)\n",
      "Requirement already satisfied: aiohttp in c:\\users\\91971\\anaconda3\\lib\\site-packages (from datasets>=2.0.0->evaluate) (3.9.5)\n",
      "Requirement already satisfied: pyyaml>=5.1 in c:\\users\\91971\\anaconda3\\lib\\site-packages (from datasets>=2.0.0->evaluate) (5.3.1)\n",
      "Requirement already satisfied: typing-extensions>=3.7.4.3 in c:\\users\\91971\\anaconda3\\lib\\site-packages (from huggingface-hub>=0.7.0->evaluate) (4.11.0)\n",
      "Requirement already satisfied: chardet<4,>=3.0.2 in c:\\users\\91971\\anaconda3\\lib\\site-packages (from requests>=2.19.0->evaluate) (3.0.4)\n",
      "Requirement already satisfied: idna<3,>=2.5 in c:\\users\\91971\\anaconda3\\lib\\site-packages (from requests>=2.19.0->evaluate) (2.10)\n",
      "Requirement already satisfied: urllib3!=1.25.0,!=1.25.1,<1.26,>=1.21.1 in c:\\users\\91971\\anaconda3\\lib\\site-packages (from requests>=2.19.0->evaluate) (1.25.11)\n",
      "Requirement already satisfied: certifi>=2017.4.17 in c:\\users\\91971\\anaconda3\\lib\\site-packages (from requests>=2.19.0->evaluate) (2024.2.2)\n",
      "Requirement already satisfied: colorama in c:\\users\\91971\\anaconda3\\lib\\site-packages (from tqdm>=4.62.1->evaluate) (0.4.6)\n",
      "Requirement already satisfied: python-dateutil>=2.8.2 in c:\\users\\91971\\anaconda3\\lib\\site-packages (from pandas->evaluate) (2.9.0.post0)\n",
      "Requirement already satisfied: pytz>=2020.1 in c:\\users\\91971\\anaconda3\\lib\\site-packages (from pandas->evaluate) (2020.1)\n",
      "Requirement already satisfied: tzdata>=2022.1 in c:\\users\\91971\\anaconda3\\lib\\site-packages (from pandas->evaluate) (2024.1)\n",
      "Requirement already satisfied: aiosignal>=1.1.2 in c:\\users\\91971\\anaconda3\\lib\\site-packages (from aiohttp->datasets>=2.0.0->evaluate) (1.3.1)\n",
      "Requirement already satisfied: attrs>=17.3.0 in c:\\users\\91971\\anaconda3\\lib\\site-packages (from aiohttp->datasets>=2.0.0->evaluate) (23.2.0)\n",
      "Requirement already satisfied: frozenlist>=1.1.1 in c:\\users\\91971\\anaconda3\\lib\\site-packages (from aiohttp->datasets>=2.0.0->evaluate) (1.4.1)\n",
      "Requirement already satisfied: multidict<7.0,>=4.5 in c:\\users\\91971\\anaconda3\\lib\\site-packages (from aiohttp->datasets>=2.0.0->evaluate) (6.0.5)\n",
      "Requirement already satisfied: yarl<2.0,>=1.0 in c:\\users\\91971\\anaconda3\\lib\\site-packages (from aiohttp->datasets>=2.0.0->evaluate) (1.9.4)\n",
      "Requirement already satisfied: async-timeout<5.0,>=4.0 in c:\\users\\91971\\anaconda3\\lib\\site-packages (from aiohttp->datasets>=2.0.0->evaluate) (4.0.3)\n",
      "Requirement already satisfied: six>=1.5 in c:\\users\\91971\\anaconda3\\lib\\site-packages (from python-dateutil>=2.8.2->pandas->evaluate) (1.15.0)\n"
     ]
    },
    {
     "name": "stderr",
     "output_type": "stream",
     "text": [
      "DEPRECATION: pyodbc 4.0.0-unsupported has a non-standard version number. pip 24.1 will enforce this behaviour change. A possible replacement is to upgrade to a newer version of pyodbc or contact the author to suggest that they release a version with a conforming version number. Discussion can be found at https://github.com/pypa/pip/issues/12063\n"
     ]
    }
   ],
   "source": [
    "!pip install transformers\n",
    "!pip install datasets\n",
    "!pip install --upgrade pandas\n",
    "!pip install evaluate"
   ]
  },
  {
   "cell_type": "code",
   "execution_count": null,
   "metadata": {
    "id": "kv_H_SUrddGq"
   },
   "outputs": [],
   "source": []
  },
  {
   "cell_type": "code",
   "execution_count": 48,
   "metadata": {
    "id": "qK6Zwlusbadk"
   },
   "outputs": [],
   "source": [
    "import torch"
   ]
  },
  {
   "cell_type": "code",
   "execution_count": 96,
   "metadata": {
    "id": "rNU-0goehOtm"
   },
   "outputs": [],
   "source": [
    "\n",
    "text_column_name = \"text\" #@param {type:\"string\"}\n",
    "label_column_name = \"demon\" #@param {type:\"string\"}\n",
    "\n",
    "model_name = \"distilbert-base-uncased\" #@param {type:\"string\"}\n",
    "test_size = 0.2 #@param {type:\"number\"}\n",
    "num_labels = 2 #@param {type:\"number\"}\n",
    "\n",
    "device = 'cuda' if torch.cuda.is_available() else 'cpu'"
   ]
  },
  {
   "cell_type": "code",
   "execution_count": null,
   "metadata": {
    "id": "St-g9ZYH2ar7"
   },
   "outputs": [],
   "source": []
  },
  {
   "cell_type": "markdown",
   "metadata": {
    "id": "OK6fvr6rFdQf"
   },
   "source": [
    "## Read and Prepare the Dataset"
   ]
  },
  {
   "cell_type": "code",
   "execution_count": 97,
   "metadata": {
    "id": "XY5zlDmZtPtS"
   },
   "outputs": [],
   "source": [
    "import pandas as pd"
   ]
  },
  {
   "cell_type": "code",
   "execution_count": 98,
   "metadata": {
    "id": "kdpGJIfQDEX5"
   },
   "outputs": [],
   "source": [
    "df = pd.read_csv(r\"C:\\Users\\91971\\demon_slayer.csv\")"
   ]
  },
  {
   "cell_type": "code",
   "execution_count": 99,
   "metadata": {
    "colab": {
     "base_uri": "https://localhost:8080/",
     "height": 206
    },
    "id": "FNZ2cPco_sev",
    "outputId": "fb3e0fd9-354a-433d-dccd-55bc887c7861"
   },
   "outputs": [
    {
     "data": {
      "text/html": [
       "<div>\n",
       "<style scoped>\n",
       "    .dataframe tbody tr th:only-of-type {\n",
       "        vertical-align: middle;\n",
       "    }\n",
       "\n",
       "    .dataframe tbody tr th {\n",
       "        vertical-align: top;\n",
       "    }\n",
       "\n",
       "    .dataframe thead th {\n",
       "        text-align: right;\n",
       "    }\n",
       "</style>\n",
       "<table border=\"1\" class=\"dataframe\">\n",
       "  <thead>\n",
       "    <tr style=\"text-align: right;\">\n",
       "      <th></th>\n",
       "      <th>Unnamed: 0</th>\n",
       "      <th>Character Name</th>\n",
       "      <th>Breathing/Demonic Style</th>\n",
       "      <th>Description</th>\n",
       "      <th>Human or Demon</th>\n",
       "    </tr>\n",
       "  </thead>\n",
       "  <tbody>\n",
       "    <tr>\n",
       "      <th>0</th>\n",
       "      <td>0</td>\n",
       "      <td>Tanjiro Kamado</td>\n",
       "      <td>Water Breathing</td>\n",
       "      <td>Tanjiro Kamado uses Water Breathing techniques...</td>\n",
       "      <td>Human</td>\n",
       "    </tr>\n",
       "    <tr>\n",
       "      <th>1</th>\n",
       "      <td>1</td>\n",
       "      <td>Zenitsu Agatsuma</td>\n",
       "      <td>Thunder Breathing</td>\n",
       "      <td>Zenitsu Agatsuma wields Thunder Breathing, whi...</td>\n",
       "      <td>Human</td>\n",
       "    </tr>\n",
       "    <tr>\n",
       "      <th>2</th>\n",
       "      <td>2</td>\n",
       "      <td>Inosuke Hashibira</td>\n",
       "      <td>Beast Breathing</td>\n",
       "      <td>Inosuke Hashibira developed Beast Breathing on...</td>\n",
       "      <td>Human</td>\n",
       "    </tr>\n",
       "    <tr>\n",
       "      <th>3</th>\n",
       "      <td>3</td>\n",
       "      <td>Kanao Tsuyuri</td>\n",
       "      <td>Flower Breathing</td>\n",
       "      <td>Kanao Tsuyuri employs Flower Breathing, which ...</td>\n",
       "      <td>Human</td>\n",
       "    </tr>\n",
       "    <tr>\n",
       "      <th>4</th>\n",
       "      <td>4</td>\n",
       "      <td>Genya Shinazugawa</td>\n",
       "      <td>NaN</td>\n",
       "      <td>Genya Shinazugawa lacks a specific breathing s...</td>\n",
       "      <td>Human</td>\n",
       "    </tr>\n",
       "    <tr>\n",
       "      <th>5</th>\n",
       "      <td>5</td>\n",
       "      <td>Murata</td>\n",
       "      <td>Water Breathing</td>\n",
       "      <td>Murata is a practitioner of Water Breathing, s...</td>\n",
       "      <td>Human</td>\n",
       "    </tr>\n",
       "    <tr>\n",
       "      <th>6</th>\n",
       "      <td>6</td>\n",
       "      <td>Ozaki</td>\n",
       "      <td>NaN</td>\n",
       "      <td>Ozaki is a lesser-known Demon Slayer without a...</td>\n",
       "      <td>Human</td>\n",
       "    </tr>\n",
       "    <tr>\n",
       "      <th>7</th>\n",
       "      <td>7</td>\n",
       "      <td>Nezuko Kamado</td>\n",
       "      <td>Blood Demon Art</td>\n",
       "      <td>Nezuko Kamado uses her Blood Demon Art to enha...</td>\n",
       "      <td>Demon</td>\n",
       "    </tr>\n",
       "    <tr>\n",
       "      <th>8</th>\n",
       "      <td>8</td>\n",
       "      <td>Muzan Kibutsuji</td>\n",
       "      <td>NaN</td>\n",
       "      <td>Muzan Kibutsuji, the Demon King, has no specif...</td>\n",
       "      <td>Demon</td>\n",
       "    </tr>\n",
       "    <tr>\n",
       "      <th>9</th>\n",
       "      <td>9</td>\n",
       "      <td>Kokushibo</td>\n",
       "      <td>Moon Breathing</td>\n",
       "      <td>Kokushibo uses Moon Breathing, which combines ...</td>\n",
       "      <td>Demon</td>\n",
       "    </tr>\n",
       "    <tr>\n",
       "      <th>10</th>\n",
       "      <td>10</td>\n",
       "      <td>Doma</td>\n",
       "      <td>Ice Breathing</td>\n",
       "      <td>Doma wields Ice Breathing, creating deadly ice...</td>\n",
       "      <td>Demon</td>\n",
       "    </tr>\n",
       "    <tr>\n",
       "      <th>11</th>\n",
       "      <td>11</td>\n",
       "      <td>Akaza</td>\n",
       "      <td>Destructive Death</td>\n",
       "      <td>Akaza employs Destructive Death, a combat styl...</td>\n",
       "      <td>Demon</td>\n",
       "    </tr>\n",
       "    <tr>\n",
       "      <th>12</th>\n",
       "      <td>12</td>\n",
       "      <td>Nakime</td>\n",
       "      <td>Biwa Demon Art</td>\n",
       "      <td>Nakime uses her Biwa Demon Art to manipulate t...</td>\n",
       "      <td>Demon</td>\n",
       "    </tr>\n",
       "    <tr>\n",
       "      <th>13</th>\n",
       "      <td>13</td>\n",
       "      <td>Hantengu</td>\n",
       "      <td>Emotion Manipulation</td>\n",
       "      <td>Hantengu's abilities allow him to manipulate e...</td>\n",
       "      <td>Demon</td>\n",
       "    </tr>\n",
       "    <tr>\n",
       "      <th>14</th>\n",
       "      <td>14</td>\n",
       "      <td>Gyokko</td>\n",
       "      <td>Fish Manipulation</td>\n",
       "      <td>Gyokko has the ability to manipulate fish and ...</td>\n",
       "      <td>Demon</td>\n",
       "    </tr>\n",
       "  </tbody>\n",
       "</table>\n",
       "</div>"
      ],
      "text/plain": [
       "    Unnamed: 0     Character Name Breathing/Demonic Style  \\\n",
       "0            0     Tanjiro Kamado         Water Breathing   \n",
       "1            1   Zenitsu Agatsuma       Thunder Breathing   \n",
       "2            2  Inosuke Hashibira         Beast Breathing   \n",
       "3            3      Kanao Tsuyuri        Flower Breathing   \n",
       "4            4  Genya Shinazugawa                     NaN   \n",
       "5            5             Murata         Water Breathing   \n",
       "6            6              Ozaki                     NaN   \n",
       "7            7      Nezuko Kamado         Blood Demon Art   \n",
       "8            8    Muzan Kibutsuji                     NaN   \n",
       "9            9          Kokushibo          Moon Breathing   \n",
       "10          10               Doma           Ice Breathing   \n",
       "11          11              Akaza       Destructive Death   \n",
       "12          12             Nakime          Biwa Demon Art   \n",
       "13          13           Hantengu    Emotion Manipulation   \n",
       "14          14             Gyokko       Fish Manipulation   \n",
       "\n",
       "                                          Description Human or Demon  \n",
       "0   Tanjiro Kamado uses Water Breathing techniques...          Human  \n",
       "1   Zenitsu Agatsuma wields Thunder Breathing, whi...          Human  \n",
       "2   Inosuke Hashibira developed Beast Breathing on...          Human  \n",
       "3   Kanao Tsuyuri employs Flower Breathing, which ...          Human  \n",
       "4   Genya Shinazugawa lacks a specific breathing s...          Human  \n",
       "5   Murata is a practitioner of Water Breathing, s...          Human  \n",
       "6   Ozaki is a lesser-known Demon Slayer without a...          Human  \n",
       "7   Nezuko Kamado uses her Blood Demon Art to enha...          Demon  \n",
       "8   Muzan Kibutsuji, the Demon King, has no specif...          Demon  \n",
       "9   Kokushibo uses Moon Breathing, which combines ...          Demon  \n",
       "10  Doma wields Ice Breathing, creating deadly ice...          Demon  \n",
       "11  Akaza employs Destructive Death, a combat styl...          Demon  \n",
       "12  Nakime uses her Biwa Demon Art to manipulate t...          Demon  \n",
       "13  Hantengu's abilities allow him to manipulate e...          Demon  \n",
       "14  Gyokko has the ability to manipulate fish and ...          Demon  "
      ]
     },
     "execution_count": 99,
     "metadata": {},
     "output_type": "execute_result"
    }
   ],
   "source": [
    "df.head(15)"
   ]
  },
  {
   "cell_type": "code",
   "execution_count": null,
   "metadata": {
    "id": "dJsU3aaabJ7j"
   },
   "outputs": [],
   "source": []
  },
  {
   "cell_type": "code",
   "execution_count": 100,
   "metadata": {},
   "outputs": [],
   "source": [
    "df = df.fillna(\"None\")"
   ]
  },
  {
   "cell_type": "code",
   "execution_count": 101,
   "metadata": {},
   "outputs": [
    {
     "name": "stdout",
     "output_type": "stream",
     "text": [
      "<class 'pandas.core.frame.DataFrame'>\n",
      "RangeIndex: 33 entries, 0 to 32\n",
      "Data columns (total 5 columns):\n",
      " #   Column                   Non-Null Count  Dtype \n",
      "---  ------                   --------------  ----- \n",
      " 0   Unnamed: 0               33 non-null     int64 \n",
      " 1   Character Name           33 non-null     object\n",
      " 2   Breathing/Demonic Style  33 non-null     object\n",
      " 3   Description              33 non-null     object\n",
      " 4   Human or Demon           33 non-null     object\n",
      "dtypes: int64(1), object(4)\n",
      "memory usage: 1.4+ KB\n"
     ]
    }
   ],
   "source": [
    "df.info()"
   ]
  },
  {
   "cell_type": "code",
   "execution_count": 102,
   "metadata": {},
   "outputs": [
    {
     "data": {
      "text/html": [
       "<div>\n",
       "<style scoped>\n",
       "    .dataframe tbody tr th:only-of-type {\n",
       "        vertical-align: middle;\n",
       "    }\n",
       "\n",
       "    .dataframe tbody tr th {\n",
       "        vertical-align: top;\n",
       "    }\n",
       "\n",
       "    .dataframe thead th {\n",
       "        text-align: right;\n",
       "    }\n",
       "</style>\n",
       "<table border=\"1\" class=\"dataframe\">\n",
       "  <thead>\n",
       "    <tr style=\"text-align: right;\">\n",
       "      <th></th>\n",
       "      <th>Human or Demon</th>\n",
       "      <th>Description</th>\n",
       "    </tr>\n",
       "  </thead>\n",
       "  <tbody>\n",
       "    <tr>\n",
       "      <th>0</th>\n",
       "      <td>Human</td>\n",
       "      <td>Tanjiro Kamado uses Water Breathing techniques...</td>\n",
       "    </tr>\n",
       "    <tr>\n",
       "      <th>1</th>\n",
       "      <td>Human</td>\n",
       "      <td>Zenitsu Agatsuma wields Thunder Breathing, whi...</td>\n",
       "    </tr>\n",
       "    <tr>\n",
       "      <th>2</th>\n",
       "      <td>Human</td>\n",
       "      <td>Inosuke Hashibira developed Beast Breathing on...</td>\n",
       "    </tr>\n",
       "    <tr>\n",
       "      <th>3</th>\n",
       "      <td>Human</td>\n",
       "      <td>Kanao Tsuyuri employs Flower Breathing, which ...</td>\n",
       "    </tr>\n",
       "    <tr>\n",
       "      <th>4</th>\n",
       "      <td>Human</td>\n",
       "      <td>Genya Shinazugawa lacks a specific breathing s...</td>\n",
       "    </tr>\n",
       "    <tr>\n",
       "      <th>5</th>\n",
       "      <td>Human</td>\n",
       "      <td>Murata is a practitioner of Water Breathing, s...</td>\n",
       "    </tr>\n",
       "    <tr>\n",
       "      <th>6</th>\n",
       "      <td>Human</td>\n",
       "      <td>Ozaki is a lesser-known Demon Slayer without a...</td>\n",
       "    </tr>\n",
       "    <tr>\n",
       "      <th>7</th>\n",
       "      <td>Demon</td>\n",
       "      <td>Nezuko Kamado uses her Blood Demon Art to enha...</td>\n",
       "    </tr>\n",
       "    <tr>\n",
       "      <th>8</th>\n",
       "      <td>Demon</td>\n",
       "      <td>Muzan Kibutsuji, the Demon King, has no specif...</td>\n",
       "    </tr>\n",
       "    <tr>\n",
       "      <th>9</th>\n",
       "      <td>Demon</td>\n",
       "      <td>Kokushibo uses Moon Breathing, which combines ...</td>\n",
       "    </tr>\n",
       "    <tr>\n",
       "      <th>10</th>\n",
       "      <td>Demon</td>\n",
       "      <td>Doma wields Ice Breathing, creating deadly ice...</td>\n",
       "    </tr>\n",
       "    <tr>\n",
       "      <th>11</th>\n",
       "      <td>Demon</td>\n",
       "      <td>Akaza employs Destructive Death, a combat styl...</td>\n",
       "    </tr>\n",
       "    <tr>\n",
       "      <th>12</th>\n",
       "      <td>Demon</td>\n",
       "      <td>Nakime uses her Biwa Demon Art to manipulate t...</td>\n",
       "    </tr>\n",
       "    <tr>\n",
       "      <th>13</th>\n",
       "      <td>Demon</td>\n",
       "      <td>Hantengu's abilities allow him to manipulate e...</td>\n",
       "    </tr>\n",
       "    <tr>\n",
       "      <th>14</th>\n",
       "      <td>Demon</td>\n",
       "      <td>Gyokko has the ability to manipulate fish and ...</td>\n",
       "    </tr>\n",
       "    <tr>\n",
       "      <th>15</th>\n",
       "      <td>Demon</td>\n",
       "      <td>Gyutaro utilizes a Blood Demon Art that enhanc...</td>\n",
       "    </tr>\n",
       "    <tr>\n",
       "      <th>16</th>\n",
       "      <td>Demon</td>\n",
       "      <td>Daki also uses a Blood Demon Art that manipula...</td>\n",
       "    </tr>\n",
       "    <tr>\n",
       "      <th>17</th>\n",
       "      <td>Demon</td>\n",
       "      <td>Kaigaku, a former Thunder Breathing user, beco...</td>\n",
       "    </tr>\n",
       "    <tr>\n",
       "      <th>18</th>\n",
       "      <td>Demon</td>\n",
       "      <td>Enmu's Dream Manipulation allows him to contro...</td>\n",
       "    </tr>\n",
       "    <tr>\n",
       "      <th>19</th>\n",
       "      <td>Demon</td>\n",
       "      <td>Rokuro, a lower-ranked demon, relies on his br...</td>\n",
       "    </tr>\n",
       "    <tr>\n",
       "      <th>20</th>\n",
       "      <td>Demon</td>\n",
       "      <td>Wakuraba's abilities are not well-documented, ...</td>\n",
       "    </tr>\n",
       "    <tr>\n",
       "      <th>21</th>\n",
       "      <td>Demon</td>\n",
       "      <td>Mukago's combat style is not specified, but sh...</td>\n",
       "    </tr>\n",
       "    <tr>\n",
       "      <th>22</th>\n",
       "      <td>Demon</td>\n",
       "      <td>Rui manipulates threads to create deadly webs ...</td>\n",
       "    </tr>\n",
       "    <tr>\n",
       "      <th>23</th>\n",
       "      <td>Demon</td>\n",
       "      <td>Kamanue's abilities and style are not prominen...</td>\n",
       "    </tr>\n",
       "    <tr>\n",
       "      <th>24</th>\n",
       "      <td>Demon</td>\n",
       "      <td>Kyogai uses Drum Manipulation to control his s...</td>\n",
       "    </tr>\n",
       "    <tr>\n",
       "      <th>25</th>\n",
       "      <td>Human</td>\n",
       "      <td>Gyomei Himejima uses Stone Breathing and is th...</td>\n",
       "    </tr>\n",
       "    <tr>\n",
       "      <th>26</th>\n",
       "      <td>Human</td>\n",
       "      <td>Muichiro Tokito, the Mist Hashira, utilizes Mi...</td>\n",
       "    </tr>\n",
       "    <tr>\n",
       "      <th>27</th>\n",
       "      <td>Human</td>\n",
       "      <td>Mitsuri Kanroji employs Love Breathing, a uniq...</td>\n",
       "    </tr>\n",
       "    <tr>\n",
       "      <th>28</th>\n",
       "      <td>Human</td>\n",
       "      <td>Obanai Iguro uses Serpent Breathing, character...</td>\n",
       "    </tr>\n",
       "    <tr>\n",
       "      <th>29</th>\n",
       "      <td>Human</td>\n",
       "      <td>Sanemi Shinazugawa wields Wind Breathing, maki...</td>\n",
       "    </tr>\n",
       "    <tr>\n",
       "      <th>30</th>\n",
       "      <td>Human</td>\n",
       "      <td>Tengen Uzui, the Sound Hashira, uses Sound Bre...</td>\n",
       "    </tr>\n",
       "    <tr>\n",
       "      <th>31</th>\n",
       "      <td>Human</td>\n",
       "      <td>Shinobu Kocho uses Insect Breathing, which rel...</td>\n",
       "    </tr>\n",
       "    <tr>\n",
       "      <th>32</th>\n",
       "      <td>Human</td>\n",
       "      <td>Kyojuro Rengoku is the Flame Hashira, masterin...</td>\n",
       "    </tr>\n",
       "  </tbody>\n",
       "</table>\n",
       "</div>"
      ],
      "text/plain": [
       "   Human or Demon                                        Description\n",
       "0           Human  Tanjiro Kamado uses Water Breathing techniques...\n",
       "1           Human  Zenitsu Agatsuma wields Thunder Breathing, whi...\n",
       "2           Human  Inosuke Hashibira developed Beast Breathing on...\n",
       "3           Human  Kanao Tsuyuri employs Flower Breathing, which ...\n",
       "4           Human  Genya Shinazugawa lacks a specific breathing s...\n",
       "5           Human  Murata is a practitioner of Water Breathing, s...\n",
       "6           Human  Ozaki is a lesser-known Demon Slayer without a...\n",
       "7           Demon  Nezuko Kamado uses her Blood Demon Art to enha...\n",
       "8           Demon  Muzan Kibutsuji, the Demon King, has no specif...\n",
       "9           Demon  Kokushibo uses Moon Breathing, which combines ...\n",
       "10          Demon  Doma wields Ice Breathing, creating deadly ice...\n",
       "11          Demon  Akaza employs Destructive Death, a combat styl...\n",
       "12          Demon  Nakime uses her Biwa Demon Art to manipulate t...\n",
       "13          Demon  Hantengu's abilities allow him to manipulate e...\n",
       "14          Demon  Gyokko has the ability to manipulate fish and ...\n",
       "15          Demon  Gyutaro utilizes a Blood Demon Art that enhanc...\n",
       "16          Demon  Daki also uses a Blood Demon Art that manipula...\n",
       "17          Demon  Kaigaku, a former Thunder Breathing user, beco...\n",
       "18          Demon  Enmu's Dream Manipulation allows him to contro...\n",
       "19          Demon  Rokuro, a lower-ranked demon, relies on his br...\n",
       "20          Demon  Wakuraba's abilities are not well-documented, ...\n",
       "21          Demon  Mukago's combat style is not specified, but sh...\n",
       "22          Demon  Rui manipulates threads to create deadly webs ...\n",
       "23          Demon  Kamanue's abilities and style are not prominen...\n",
       "24          Demon  Kyogai uses Drum Manipulation to control his s...\n",
       "25          Human  Gyomei Himejima uses Stone Breathing and is th...\n",
       "26          Human  Muichiro Tokito, the Mist Hashira, utilizes Mi...\n",
       "27          Human  Mitsuri Kanroji employs Love Breathing, a uniq...\n",
       "28          Human  Obanai Iguro uses Serpent Breathing, character...\n",
       "29          Human  Sanemi Shinazugawa wields Wind Breathing, maki...\n",
       "30          Human  Tengen Uzui, the Sound Hashira, uses Sound Bre...\n",
       "31          Human  Shinobu Kocho uses Insect Breathing, which rel...\n",
       "32          Human  Kyojuro Rengoku is the Flame Hashira, masterin..."
      ]
     },
     "execution_count": 102,
     "metadata": {},
     "output_type": "execute_result"
    }
   ],
   "source": [
    "df1 = df.iloc[:, [4, 3]]\n",
    "df1"
   ]
  },
  {
   "cell_type": "code",
   "execution_count": 103,
   "metadata": {
    "id": "rSh87vmaIuTH"
   },
   "outputs": [
    {
     "data": {
      "text/html": [
       "<div>\n",
       "<style scoped>\n",
       "    .dataframe tbody tr th:only-of-type {\n",
       "        vertical-align: middle;\n",
       "    }\n",
       "\n",
       "    .dataframe tbody tr th {\n",
       "        vertical-align: top;\n",
       "    }\n",
       "\n",
       "    .dataframe thead th {\n",
       "        text-align: right;\n",
       "    }\n",
       "</style>\n",
       "<table border=\"1\" class=\"dataframe\">\n",
       "  <thead>\n",
       "    <tr style=\"text-align: right;\">\n",
       "      <th></th>\n",
       "      <th>Unnamed: 0</th>\n",
       "      <th>Character Name</th>\n",
       "      <th>Breathing/Demonic Style</th>\n",
       "      <th>Description</th>\n",
       "      <th>Human or Demon</th>\n",
       "      <th>text</th>\n",
       "    </tr>\n",
       "  </thead>\n",
       "  <tbody>\n",
       "    <tr>\n",
       "      <th>0</th>\n",
       "      <td>0</td>\n",
       "      <td>Tanjiro Kamado</td>\n",
       "      <td>Water Breathing</td>\n",
       "      <td>Tanjiro Kamado uses Water Breathing techniques...</td>\n",
       "      <td>Human</td>\n",
       "      <td>Tanjiro Kamado. Tanjiro Kamado uses Water Brea...</td>\n",
       "    </tr>\n",
       "    <tr>\n",
       "      <th>1</th>\n",
       "      <td>1</td>\n",
       "      <td>Zenitsu Agatsuma</td>\n",
       "      <td>Thunder Breathing</td>\n",
       "      <td>Zenitsu Agatsuma wields Thunder Breathing, whi...</td>\n",
       "      <td>Human</td>\n",
       "      <td>Zenitsu Agatsuma. Zenitsu Agatsuma wields Thun...</td>\n",
       "    </tr>\n",
       "    <tr>\n",
       "      <th>2</th>\n",
       "      <td>2</td>\n",
       "      <td>Inosuke Hashibira</td>\n",
       "      <td>Beast Breathing</td>\n",
       "      <td>Inosuke Hashibira developed Beast Breathing on...</td>\n",
       "      <td>Human</td>\n",
       "      <td>Inosuke Hashibira. Inosuke Hashibira developed...</td>\n",
       "    </tr>\n",
       "    <tr>\n",
       "      <th>3</th>\n",
       "      <td>3</td>\n",
       "      <td>Kanao Tsuyuri</td>\n",
       "      <td>Flower Breathing</td>\n",
       "      <td>Kanao Tsuyuri employs Flower Breathing, which ...</td>\n",
       "      <td>Human</td>\n",
       "      <td>Kanao Tsuyuri. Kanao Tsuyuri employs Flower Br...</td>\n",
       "    </tr>\n",
       "    <tr>\n",
       "      <th>4</th>\n",
       "      <td>4</td>\n",
       "      <td>Genya Shinazugawa</td>\n",
       "      <td>None</td>\n",
       "      <td>Genya Shinazugawa lacks a specific breathing s...</td>\n",
       "      <td>Human</td>\n",
       "      <td>Genya Shinazugawa. Genya Shinazugawa lacks a s...</td>\n",
       "    </tr>\n",
       "    <tr>\n",
       "      <th>5</th>\n",
       "      <td>5</td>\n",
       "      <td>Murata</td>\n",
       "      <td>Water Breathing</td>\n",
       "      <td>Murata is a practitioner of Water Breathing, s...</td>\n",
       "      <td>Human</td>\n",
       "      <td>Murata. Murata is a practitioner of Water Brea...</td>\n",
       "    </tr>\n",
       "    <tr>\n",
       "      <th>6</th>\n",
       "      <td>6</td>\n",
       "      <td>Ozaki</td>\n",
       "      <td>None</td>\n",
       "      <td>Ozaki is a lesser-known Demon Slayer without a...</td>\n",
       "      <td>Human</td>\n",
       "      <td>Ozaki. Ozaki is a lesser-known Demon Slayer wi...</td>\n",
       "    </tr>\n",
       "    <tr>\n",
       "      <th>7</th>\n",
       "      <td>7</td>\n",
       "      <td>Nezuko Kamado</td>\n",
       "      <td>Blood Demon Art</td>\n",
       "      <td>Nezuko Kamado uses her Blood Demon Art to enha...</td>\n",
       "      <td>Demon</td>\n",
       "      <td>Nezuko Kamado. Nezuko Kamado uses her Blood De...</td>\n",
       "    </tr>\n",
       "    <tr>\n",
       "      <th>8</th>\n",
       "      <td>8</td>\n",
       "      <td>Muzan Kibutsuji</td>\n",
       "      <td>None</td>\n",
       "      <td>Muzan Kibutsuji, the Demon King, has no specif...</td>\n",
       "      <td>Demon</td>\n",
       "      <td>Muzan Kibutsuji. Muzan Kibutsuji, the Demon Ki...</td>\n",
       "    </tr>\n",
       "    <tr>\n",
       "      <th>9</th>\n",
       "      <td>9</td>\n",
       "      <td>Kokushibo</td>\n",
       "      <td>Moon Breathing</td>\n",
       "      <td>Kokushibo uses Moon Breathing, which combines ...</td>\n",
       "      <td>Demon</td>\n",
       "      <td>Kokushibo. Kokushibo uses Moon Breathing, whic...</td>\n",
       "    </tr>\n",
       "    <tr>\n",
       "      <th>10</th>\n",
       "      <td>10</td>\n",
       "      <td>Doma</td>\n",
       "      <td>Ice Breathing</td>\n",
       "      <td>Doma wields Ice Breathing, creating deadly ice...</td>\n",
       "      <td>Demon</td>\n",
       "      <td>Doma. Doma wields Ice Breathing, creating dead...</td>\n",
       "    </tr>\n",
       "    <tr>\n",
       "      <th>11</th>\n",
       "      <td>11</td>\n",
       "      <td>Akaza</td>\n",
       "      <td>Destructive Death</td>\n",
       "      <td>Akaza employs Destructive Death, a combat styl...</td>\n",
       "      <td>Demon</td>\n",
       "      <td>Akaza. Akaza employs Destructive Death, a comb...</td>\n",
       "    </tr>\n",
       "    <tr>\n",
       "      <th>12</th>\n",
       "      <td>12</td>\n",
       "      <td>Nakime</td>\n",
       "      <td>Biwa Demon Art</td>\n",
       "      <td>Nakime uses her Biwa Demon Art to manipulate t...</td>\n",
       "      <td>Demon</td>\n",
       "      <td>Nakime. Nakime uses her Biwa Demon Art to mani...</td>\n",
       "    </tr>\n",
       "    <tr>\n",
       "      <th>13</th>\n",
       "      <td>13</td>\n",
       "      <td>Hantengu</td>\n",
       "      <td>Emotion Manipulation</td>\n",
       "      <td>Hantengu's abilities allow him to manipulate e...</td>\n",
       "      <td>Demon</td>\n",
       "      <td>Hantengu. Hantengu's abilities allow him to ma...</td>\n",
       "    </tr>\n",
       "    <tr>\n",
       "      <th>14</th>\n",
       "      <td>14</td>\n",
       "      <td>Gyokko</td>\n",
       "      <td>Fish Manipulation</td>\n",
       "      <td>Gyokko has the ability to manipulate fish and ...</td>\n",
       "      <td>Demon</td>\n",
       "      <td>Gyokko. Gyokko has the ability to manipulate f...</td>\n",
       "    </tr>\n",
       "    <tr>\n",
       "      <th>15</th>\n",
       "      <td>15</td>\n",
       "      <td>Gyutaro</td>\n",
       "      <td>Blood Demon Art</td>\n",
       "      <td>Gyutaro utilizes a Blood Demon Art that enhanc...</td>\n",
       "      <td>Demon</td>\n",
       "      <td>Gyutaro. Gyutaro utilizes a Blood Demon Art th...</td>\n",
       "    </tr>\n",
       "    <tr>\n",
       "      <th>16</th>\n",
       "      <td>16</td>\n",
       "      <td>Daki</td>\n",
       "      <td>Blood Demon Art</td>\n",
       "      <td>Daki also uses a Blood Demon Art that manipula...</td>\n",
       "      <td>Demon</td>\n",
       "      <td>Daki. Daki also uses a Blood Demon Art that ma...</td>\n",
       "    </tr>\n",
       "    <tr>\n",
       "      <th>17</th>\n",
       "      <td>17</td>\n",
       "      <td>Kaigaku</td>\n",
       "      <td>Thunder Breathing</td>\n",
       "      <td>Kaigaku, a former Thunder Breathing user, beco...</td>\n",
       "      <td>Demon</td>\n",
       "      <td>Kaigaku. Kaigaku, a former Thunder Breathing u...</td>\n",
       "    </tr>\n",
       "    <tr>\n",
       "      <th>18</th>\n",
       "      <td>18</td>\n",
       "      <td>Enmu</td>\n",
       "      <td>Dream Manipulation</td>\n",
       "      <td>Enmu's Dream Manipulation allows him to contro...</td>\n",
       "      <td>Demon</td>\n",
       "      <td>Enmu. Enmu's Dream Manipulation allows him to ...</td>\n",
       "    </tr>\n",
       "    <tr>\n",
       "      <th>19</th>\n",
       "      <td>19</td>\n",
       "      <td>Rokuro</td>\n",
       "      <td>None</td>\n",
       "      <td>Rokuro, a lower-ranked demon, relies on his br...</td>\n",
       "      <td>Demon</td>\n",
       "      <td>Rokuro. Rokuro, a lower-ranked demon, relies o...</td>\n",
       "    </tr>\n",
       "    <tr>\n",
       "      <th>20</th>\n",
       "      <td>20</td>\n",
       "      <td>Wakuraba</td>\n",
       "      <td>None</td>\n",
       "      <td>Wakuraba's abilities are not well-documented, ...</td>\n",
       "      <td>Demon</td>\n",
       "      <td>Wakuraba. Wakuraba's abilities are not well-do...</td>\n",
       "    </tr>\n",
       "    <tr>\n",
       "      <th>21</th>\n",
       "      <td>21</td>\n",
       "      <td>Mukago</td>\n",
       "      <td>None</td>\n",
       "      <td>Mukago's combat style is not specified, but sh...</td>\n",
       "      <td>Demon</td>\n",
       "      <td>Mukago. Mukago's combat style is not specified...</td>\n",
       "    </tr>\n",
       "    <tr>\n",
       "      <th>22</th>\n",
       "      <td>22</td>\n",
       "      <td>Rui</td>\n",
       "      <td>Thread Manipulation</td>\n",
       "      <td>Rui manipulates threads to create deadly webs ...</td>\n",
       "      <td>Demon</td>\n",
       "      <td>Rui. Rui manipulates threads to create deadly ...</td>\n",
       "    </tr>\n",
       "    <tr>\n",
       "      <th>23</th>\n",
       "      <td>23</td>\n",
       "      <td>Kamanue</td>\n",
       "      <td>None</td>\n",
       "      <td>Kamanue's abilities and style are not prominen...</td>\n",
       "      <td>Demon</td>\n",
       "      <td>Kamanue. Kamanue's abilities and style are not...</td>\n",
       "    </tr>\n",
       "    <tr>\n",
       "      <th>24</th>\n",
       "      <td>24</td>\n",
       "      <td>Kyogai</td>\n",
       "      <td>Drum Manipulation</td>\n",
       "      <td>Kyogai uses Drum Manipulation to control his s...</td>\n",
       "      <td>Demon</td>\n",
       "      <td>Kyogai. Kyogai uses Drum Manipulation to contr...</td>\n",
       "    </tr>\n",
       "    <tr>\n",
       "      <th>25</th>\n",
       "      <td>25</td>\n",
       "      <td>Gyomei Himejima</td>\n",
       "      <td>Stone Breathing</td>\n",
       "      <td>Gyomei Himejima uses Stone Breathing and is th...</td>\n",
       "      <td>Human</td>\n",
       "      <td>Gyomei Himejima. Gyomei Himejima uses Stone Br...</td>\n",
       "    </tr>\n",
       "    <tr>\n",
       "      <th>26</th>\n",
       "      <td>26</td>\n",
       "      <td>Muichiro Tokito</td>\n",
       "      <td>Mist Breathing</td>\n",
       "      <td>Muichiro Tokito, the Mist Hashira, utilizes Mi...</td>\n",
       "      <td>Human</td>\n",
       "      <td>Muichiro Tokito. Muichiro Tokito, the Mist Has...</td>\n",
       "    </tr>\n",
       "    <tr>\n",
       "      <th>27</th>\n",
       "      <td>27</td>\n",
       "      <td>Mitsuri Kanroji</td>\n",
       "      <td>Love Breathing</td>\n",
       "      <td>Mitsuri Kanroji employs Love Breathing, a uniq...</td>\n",
       "      <td>Human</td>\n",
       "      <td>Mitsuri Kanroji. Mitsuri Kanroji employs Love ...</td>\n",
       "    </tr>\n",
       "    <tr>\n",
       "      <th>28</th>\n",
       "      <td>28</td>\n",
       "      <td>Obanai Iguro</td>\n",
       "      <td>Serpent Breathing</td>\n",
       "      <td>Obanai Iguro uses Serpent Breathing, character...</td>\n",
       "      <td>Human</td>\n",
       "      <td>Obanai Iguro. Obanai Iguro uses Serpent Breath...</td>\n",
       "    </tr>\n",
       "    <tr>\n",
       "      <th>29</th>\n",
       "      <td>29</td>\n",
       "      <td>Sanemi Shinazugawa</td>\n",
       "      <td>Wind Breathing</td>\n",
       "      <td>Sanemi Shinazugawa wields Wind Breathing, maki...</td>\n",
       "      <td>Human</td>\n",
       "      <td>Sanemi Shinazugawa. Sanemi Shinazugawa wields ...</td>\n",
       "    </tr>\n",
       "    <tr>\n",
       "      <th>30</th>\n",
       "      <td>30</td>\n",
       "      <td>Tengen Uzui</td>\n",
       "      <td>Sound Breathing</td>\n",
       "      <td>Tengen Uzui, the Sound Hashira, uses Sound Bre...</td>\n",
       "      <td>Human</td>\n",
       "      <td>Tengen Uzui. Tengen Uzui, the Sound Hashira, u...</td>\n",
       "    </tr>\n",
       "    <tr>\n",
       "      <th>31</th>\n",
       "      <td>31</td>\n",
       "      <td>Shinobu Kocho</td>\n",
       "      <td>Insect Breathing</td>\n",
       "      <td>Shinobu Kocho uses Insect Breathing, which rel...</td>\n",
       "      <td>Human</td>\n",
       "      <td>Shinobu Kocho. Shinobu Kocho uses Insect Breat...</td>\n",
       "    </tr>\n",
       "    <tr>\n",
       "      <th>32</th>\n",
       "      <td>32</td>\n",
       "      <td>Kyojuro Rengoku</td>\n",
       "      <td>Flame Breathing</td>\n",
       "      <td>Kyojuro Rengoku is the Flame Hashira, masterin...</td>\n",
       "      <td>Human</td>\n",
       "      <td>Kyojuro Rengoku. Kyojuro Rengoku is the Flame ...</td>\n",
       "    </tr>\n",
       "  </tbody>\n",
       "</table>\n",
       "</div>"
      ],
      "text/plain": [
       "    Unnamed: 0      Character Name Breathing/Demonic Style  \\\n",
       "0            0      Tanjiro Kamado         Water Breathing   \n",
       "1            1    Zenitsu Agatsuma       Thunder Breathing   \n",
       "2            2   Inosuke Hashibira         Beast Breathing   \n",
       "3            3       Kanao Tsuyuri        Flower Breathing   \n",
       "4            4   Genya Shinazugawa                    None   \n",
       "5            5              Murata         Water Breathing   \n",
       "6            6               Ozaki                    None   \n",
       "7            7       Nezuko Kamado         Blood Demon Art   \n",
       "8            8     Muzan Kibutsuji                    None   \n",
       "9            9           Kokushibo          Moon Breathing   \n",
       "10          10                Doma           Ice Breathing   \n",
       "11          11               Akaza       Destructive Death   \n",
       "12          12              Nakime          Biwa Demon Art   \n",
       "13          13            Hantengu    Emotion Manipulation   \n",
       "14          14              Gyokko       Fish Manipulation   \n",
       "15          15             Gyutaro         Blood Demon Art   \n",
       "16          16                Daki         Blood Demon Art   \n",
       "17          17             Kaigaku       Thunder Breathing   \n",
       "18          18                Enmu      Dream Manipulation   \n",
       "19          19              Rokuro                    None   \n",
       "20          20            Wakuraba                    None   \n",
       "21          21              Mukago                    None   \n",
       "22          22                 Rui     Thread Manipulation   \n",
       "23          23             Kamanue                    None   \n",
       "24          24              Kyogai       Drum Manipulation   \n",
       "25          25     Gyomei Himejima         Stone Breathing   \n",
       "26          26     Muichiro Tokito          Mist Breathing   \n",
       "27          27     Mitsuri Kanroji          Love Breathing   \n",
       "28          28        Obanai Iguro       Serpent Breathing   \n",
       "29          29  Sanemi Shinazugawa          Wind Breathing   \n",
       "30          30         Tengen Uzui         Sound Breathing   \n",
       "31          31       Shinobu Kocho        Insect Breathing   \n",
       "32          32     Kyojuro Rengoku         Flame Breathing   \n",
       "\n",
       "                                          Description Human or Demon  \\\n",
       "0   Tanjiro Kamado uses Water Breathing techniques...          Human   \n",
       "1   Zenitsu Agatsuma wields Thunder Breathing, whi...          Human   \n",
       "2   Inosuke Hashibira developed Beast Breathing on...          Human   \n",
       "3   Kanao Tsuyuri employs Flower Breathing, which ...          Human   \n",
       "4   Genya Shinazugawa lacks a specific breathing s...          Human   \n",
       "5   Murata is a practitioner of Water Breathing, s...          Human   \n",
       "6   Ozaki is a lesser-known Demon Slayer without a...          Human   \n",
       "7   Nezuko Kamado uses her Blood Demon Art to enha...          Demon   \n",
       "8   Muzan Kibutsuji, the Demon King, has no specif...          Demon   \n",
       "9   Kokushibo uses Moon Breathing, which combines ...          Demon   \n",
       "10  Doma wields Ice Breathing, creating deadly ice...          Demon   \n",
       "11  Akaza employs Destructive Death, a combat styl...          Demon   \n",
       "12  Nakime uses her Biwa Demon Art to manipulate t...          Demon   \n",
       "13  Hantengu's abilities allow him to manipulate e...          Demon   \n",
       "14  Gyokko has the ability to manipulate fish and ...          Demon   \n",
       "15  Gyutaro utilizes a Blood Demon Art that enhanc...          Demon   \n",
       "16  Daki also uses a Blood Demon Art that manipula...          Demon   \n",
       "17  Kaigaku, a former Thunder Breathing user, beco...          Demon   \n",
       "18  Enmu's Dream Manipulation allows him to contro...          Demon   \n",
       "19  Rokuro, a lower-ranked demon, relies on his br...          Demon   \n",
       "20  Wakuraba's abilities are not well-documented, ...          Demon   \n",
       "21  Mukago's combat style is not specified, but sh...          Demon   \n",
       "22  Rui manipulates threads to create deadly webs ...          Demon   \n",
       "23  Kamanue's abilities and style are not prominen...          Demon   \n",
       "24  Kyogai uses Drum Manipulation to control his s...          Demon   \n",
       "25  Gyomei Himejima uses Stone Breathing and is th...          Human   \n",
       "26  Muichiro Tokito, the Mist Hashira, utilizes Mi...          Human   \n",
       "27  Mitsuri Kanroji employs Love Breathing, a uniq...          Human   \n",
       "28  Obanai Iguro uses Serpent Breathing, character...          Human   \n",
       "29  Sanemi Shinazugawa wields Wind Breathing, maki...          Human   \n",
       "30  Tengen Uzui, the Sound Hashira, uses Sound Bre...          Human   \n",
       "31  Shinobu Kocho uses Insect Breathing, which rel...          Human   \n",
       "32  Kyojuro Rengoku is the Flame Hashira, masterin...          Human   \n",
       "\n",
       "                                                 text  \n",
       "0   Tanjiro Kamado. Tanjiro Kamado uses Water Brea...  \n",
       "1   Zenitsu Agatsuma. Zenitsu Agatsuma wields Thun...  \n",
       "2   Inosuke Hashibira. Inosuke Hashibira developed...  \n",
       "3   Kanao Tsuyuri. Kanao Tsuyuri employs Flower Br...  \n",
       "4   Genya Shinazugawa. Genya Shinazugawa lacks a s...  \n",
       "5   Murata. Murata is a practitioner of Water Brea...  \n",
       "6   Ozaki. Ozaki is a lesser-known Demon Slayer wi...  \n",
       "7   Nezuko Kamado. Nezuko Kamado uses her Blood De...  \n",
       "8   Muzan Kibutsuji. Muzan Kibutsuji, the Demon Ki...  \n",
       "9   Kokushibo. Kokushibo uses Moon Breathing, whic...  \n",
       "10  Doma. Doma wields Ice Breathing, creating dead...  \n",
       "11  Akaza. Akaza employs Destructive Death, a comb...  \n",
       "12  Nakime. Nakime uses her Biwa Demon Art to mani...  \n",
       "13  Hantengu. Hantengu's abilities allow him to ma...  \n",
       "14  Gyokko. Gyokko has the ability to manipulate f...  \n",
       "15  Gyutaro. Gyutaro utilizes a Blood Demon Art th...  \n",
       "16  Daki. Daki also uses a Blood Demon Art that ma...  \n",
       "17  Kaigaku. Kaigaku, a former Thunder Breathing u...  \n",
       "18  Enmu. Enmu's Dream Manipulation allows him to ...  \n",
       "19  Rokuro. Rokuro, a lower-ranked demon, relies o...  \n",
       "20  Wakuraba. Wakuraba's abilities are not well-do...  \n",
       "21  Mukago. Mukago's combat style is not specified...  \n",
       "22  Rui. Rui manipulates threads to create deadly ...  \n",
       "23  Kamanue. Kamanue's abilities and style are not...  \n",
       "24  Kyogai. Kyogai uses Drum Manipulation to contr...  \n",
       "25  Gyomei Himejima. Gyomei Himejima uses Stone Br...  \n",
       "26  Muichiro Tokito. Muichiro Tokito, the Mist Has...  \n",
       "27  Mitsuri Kanroji. Mitsuri Kanroji employs Love ...  \n",
       "28  Obanai Iguro. Obanai Iguro uses Serpent Breath...  \n",
       "29  Sanemi Shinazugawa. Sanemi Shinazugawa wields ...  \n",
       "30  Tengen Uzui. Tengen Uzui, the Sound Hashira, u...  \n",
       "31  Shinobu Kocho. Shinobu Kocho uses Insect Breat...  \n",
       "32  Kyojuro Rengoku. Kyojuro Rengoku is the Flame ...  "
      ]
     },
     "execution_count": 103,
     "metadata": {},
     "output_type": "execute_result"
    }
   ],
   "source": [
    "df['text'] = df['Character Name']+'. '+df['Description']\n",
    "df"
   ]
  },
  {
   "cell_type": "code",
   "execution_count": 104,
   "metadata": {
    "id": "IMZjdLqTnL7J"
   },
   "outputs": [],
   "source": [
    "df = df[['text','Human or Demon']]"
   ]
  },
  {
   "cell_type": "code",
   "execution_count": 105,
   "metadata": {
    "id": "dNIGnA3oO8Pd"
   },
   "outputs": [],
   "source": [
    "df = df.dropna()"
   ]
  },
  {
   "cell_type": "code",
   "execution_count": 106,
   "metadata": {},
   "outputs": [
    {
     "data": {
      "text/html": [
       "<div>\n",
       "<style scoped>\n",
       "    .dataframe tbody tr th:only-of-type {\n",
       "        vertical-align: middle;\n",
       "    }\n",
       "\n",
       "    .dataframe tbody tr th {\n",
       "        vertical-align: top;\n",
       "    }\n",
       "\n",
       "    .dataframe thead th {\n",
       "        text-align: right;\n",
       "    }\n",
       "</style>\n",
       "<table border=\"1\" class=\"dataframe\">\n",
       "  <thead>\n",
       "    <tr style=\"text-align: right;\">\n",
       "      <th></th>\n",
       "      <th>text</th>\n",
       "      <th>Human or Demon</th>\n",
       "    </tr>\n",
       "  </thead>\n",
       "  <tbody>\n",
       "    <tr>\n",
       "      <th>0</th>\n",
       "      <td>Tanjiro Kamado. Tanjiro Kamado uses Water Brea...</td>\n",
       "      <td>Human</td>\n",
       "    </tr>\n",
       "    <tr>\n",
       "      <th>1</th>\n",
       "      <td>Zenitsu Agatsuma. Zenitsu Agatsuma wields Thun...</td>\n",
       "      <td>Human</td>\n",
       "    </tr>\n",
       "    <tr>\n",
       "      <th>2</th>\n",
       "      <td>Inosuke Hashibira. Inosuke Hashibira developed...</td>\n",
       "      <td>Human</td>\n",
       "    </tr>\n",
       "    <tr>\n",
       "      <th>3</th>\n",
       "      <td>Kanao Tsuyuri. Kanao Tsuyuri employs Flower Br...</td>\n",
       "      <td>Human</td>\n",
       "    </tr>\n",
       "    <tr>\n",
       "      <th>4</th>\n",
       "      <td>Genya Shinazugawa. Genya Shinazugawa lacks a s...</td>\n",
       "      <td>Human</td>\n",
       "    </tr>\n",
       "    <tr>\n",
       "      <th>5</th>\n",
       "      <td>Murata. Murata is a practitioner of Water Brea...</td>\n",
       "      <td>Human</td>\n",
       "    </tr>\n",
       "    <tr>\n",
       "      <th>6</th>\n",
       "      <td>Ozaki. Ozaki is a lesser-known Demon Slayer wi...</td>\n",
       "      <td>Human</td>\n",
       "    </tr>\n",
       "    <tr>\n",
       "      <th>7</th>\n",
       "      <td>Nezuko Kamado. Nezuko Kamado uses her Blood De...</td>\n",
       "      <td>Demon</td>\n",
       "    </tr>\n",
       "    <tr>\n",
       "      <th>8</th>\n",
       "      <td>Muzan Kibutsuji. Muzan Kibutsuji, the Demon Ki...</td>\n",
       "      <td>Demon</td>\n",
       "    </tr>\n",
       "    <tr>\n",
       "      <th>9</th>\n",
       "      <td>Kokushibo. Kokushibo uses Moon Breathing, whic...</td>\n",
       "      <td>Demon</td>\n",
       "    </tr>\n",
       "    <tr>\n",
       "      <th>10</th>\n",
       "      <td>Doma. Doma wields Ice Breathing, creating dead...</td>\n",
       "      <td>Demon</td>\n",
       "    </tr>\n",
       "    <tr>\n",
       "      <th>11</th>\n",
       "      <td>Akaza. Akaza employs Destructive Death, a comb...</td>\n",
       "      <td>Demon</td>\n",
       "    </tr>\n",
       "    <tr>\n",
       "      <th>12</th>\n",
       "      <td>Nakime. Nakime uses her Biwa Demon Art to mani...</td>\n",
       "      <td>Demon</td>\n",
       "    </tr>\n",
       "    <tr>\n",
       "      <th>13</th>\n",
       "      <td>Hantengu. Hantengu's abilities allow him to ma...</td>\n",
       "      <td>Demon</td>\n",
       "    </tr>\n",
       "    <tr>\n",
       "      <th>14</th>\n",
       "      <td>Gyokko. Gyokko has the ability to manipulate f...</td>\n",
       "      <td>Demon</td>\n",
       "    </tr>\n",
       "    <tr>\n",
       "      <th>15</th>\n",
       "      <td>Gyutaro. Gyutaro utilizes a Blood Demon Art th...</td>\n",
       "      <td>Demon</td>\n",
       "    </tr>\n",
       "    <tr>\n",
       "      <th>16</th>\n",
       "      <td>Daki. Daki also uses a Blood Demon Art that ma...</td>\n",
       "      <td>Demon</td>\n",
       "    </tr>\n",
       "    <tr>\n",
       "      <th>17</th>\n",
       "      <td>Kaigaku. Kaigaku, a former Thunder Breathing u...</td>\n",
       "      <td>Demon</td>\n",
       "    </tr>\n",
       "    <tr>\n",
       "      <th>18</th>\n",
       "      <td>Enmu. Enmu's Dream Manipulation allows him to ...</td>\n",
       "      <td>Demon</td>\n",
       "    </tr>\n",
       "    <tr>\n",
       "      <th>19</th>\n",
       "      <td>Rokuro. Rokuro, a lower-ranked demon, relies o...</td>\n",
       "      <td>Demon</td>\n",
       "    </tr>\n",
       "    <tr>\n",
       "      <th>20</th>\n",
       "      <td>Wakuraba. Wakuraba's abilities are not well-do...</td>\n",
       "      <td>Demon</td>\n",
       "    </tr>\n",
       "    <tr>\n",
       "      <th>21</th>\n",
       "      <td>Mukago. Mukago's combat style is not specified...</td>\n",
       "      <td>Demon</td>\n",
       "    </tr>\n",
       "    <tr>\n",
       "      <th>22</th>\n",
       "      <td>Rui. Rui manipulates threads to create deadly ...</td>\n",
       "      <td>Demon</td>\n",
       "    </tr>\n",
       "    <tr>\n",
       "      <th>23</th>\n",
       "      <td>Kamanue. Kamanue's abilities and style are not...</td>\n",
       "      <td>Demon</td>\n",
       "    </tr>\n",
       "    <tr>\n",
       "      <th>24</th>\n",
       "      <td>Kyogai. Kyogai uses Drum Manipulation to contr...</td>\n",
       "      <td>Demon</td>\n",
       "    </tr>\n",
       "    <tr>\n",
       "      <th>25</th>\n",
       "      <td>Gyomei Himejima. Gyomei Himejima uses Stone Br...</td>\n",
       "      <td>Human</td>\n",
       "    </tr>\n",
       "    <tr>\n",
       "      <th>26</th>\n",
       "      <td>Muichiro Tokito. Muichiro Tokito, the Mist Has...</td>\n",
       "      <td>Human</td>\n",
       "    </tr>\n",
       "    <tr>\n",
       "      <th>27</th>\n",
       "      <td>Mitsuri Kanroji. Mitsuri Kanroji employs Love ...</td>\n",
       "      <td>Human</td>\n",
       "    </tr>\n",
       "    <tr>\n",
       "      <th>28</th>\n",
       "      <td>Obanai Iguro. Obanai Iguro uses Serpent Breath...</td>\n",
       "      <td>Human</td>\n",
       "    </tr>\n",
       "    <tr>\n",
       "      <th>29</th>\n",
       "      <td>Sanemi Shinazugawa. Sanemi Shinazugawa wields ...</td>\n",
       "      <td>Human</td>\n",
       "    </tr>\n",
       "    <tr>\n",
       "      <th>30</th>\n",
       "      <td>Tengen Uzui. Tengen Uzui, the Sound Hashira, u...</td>\n",
       "      <td>Human</td>\n",
       "    </tr>\n",
       "    <tr>\n",
       "      <th>31</th>\n",
       "      <td>Shinobu Kocho. Shinobu Kocho uses Insect Breat...</td>\n",
       "      <td>Human</td>\n",
       "    </tr>\n",
       "    <tr>\n",
       "      <th>32</th>\n",
       "      <td>Kyojuro Rengoku. Kyojuro Rengoku is the Flame ...</td>\n",
       "      <td>Human</td>\n",
       "    </tr>\n",
       "  </tbody>\n",
       "</table>\n",
       "</div>"
      ],
      "text/plain": [
       "                                                 text Human or Demon\n",
       "0   Tanjiro Kamado. Tanjiro Kamado uses Water Brea...          Human\n",
       "1   Zenitsu Agatsuma. Zenitsu Agatsuma wields Thun...          Human\n",
       "2   Inosuke Hashibira. Inosuke Hashibira developed...          Human\n",
       "3   Kanao Tsuyuri. Kanao Tsuyuri employs Flower Br...          Human\n",
       "4   Genya Shinazugawa. Genya Shinazugawa lacks a s...          Human\n",
       "5   Murata. Murata is a practitioner of Water Brea...          Human\n",
       "6   Ozaki. Ozaki is a lesser-known Demon Slayer wi...          Human\n",
       "7   Nezuko Kamado. Nezuko Kamado uses her Blood De...          Demon\n",
       "8   Muzan Kibutsuji. Muzan Kibutsuji, the Demon Ki...          Demon\n",
       "9   Kokushibo. Kokushibo uses Moon Breathing, whic...          Demon\n",
       "10  Doma. Doma wields Ice Breathing, creating dead...          Demon\n",
       "11  Akaza. Akaza employs Destructive Death, a comb...          Demon\n",
       "12  Nakime. Nakime uses her Biwa Demon Art to mani...          Demon\n",
       "13  Hantengu. Hantengu's abilities allow him to ma...          Demon\n",
       "14  Gyokko. Gyokko has the ability to manipulate f...          Demon\n",
       "15  Gyutaro. Gyutaro utilizes a Blood Demon Art th...          Demon\n",
       "16  Daki. Daki also uses a Blood Demon Art that ma...          Demon\n",
       "17  Kaigaku. Kaigaku, a former Thunder Breathing u...          Demon\n",
       "18  Enmu. Enmu's Dream Manipulation allows him to ...          Demon\n",
       "19  Rokuro. Rokuro, a lower-ranked demon, relies o...          Demon\n",
       "20  Wakuraba. Wakuraba's abilities are not well-do...          Demon\n",
       "21  Mukago. Mukago's combat style is not specified...          Demon\n",
       "22  Rui. Rui manipulates threads to create deadly ...          Demon\n",
       "23  Kamanue. Kamanue's abilities and style are not...          Demon\n",
       "24  Kyogai. Kyogai uses Drum Manipulation to contr...          Demon\n",
       "25  Gyomei Himejima. Gyomei Himejima uses Stone Br...          Human\n",
       "26  Muichiro Tokito. Muichiro Tokito, the Mist Has...          Human\n",
       "27  Mitsuri Kanroji. Mitsuri Kanroji employs Love ...          Human\n",
       "28  Obanai Iguro. Obanai Iguro uses Serpent Breath...          Human\n",
       "29  Sanemi Shinazugawa. Sanemi Shinazugawa wields ...          Human\n",
       "30  Tengen Uzui. Tengen Uzui, the Sound Hashira, u...          Human\n",
       "31  Shinobu Kocho. Shinobu Kocho uses Insect Breat...          Human\n",
       "32  Kyojuro Rengoku. Kyojuro Rengoku is the Flame ...          Human"
      ]
     },
     "execution_count": 106,
     "metadata": {},
     "output_type": "execute_result"
    }
   ],
   "source": [
    "df"
   ]
  },
  {
   "cell_type": "code",
   "execution_count": 107,
   "metadata": {
    "colab": {
     "base_uri": "https://localhost:8080/"
    },
    "id": "jvD0XQ5FO7X5",
    "outputId": "c23fa1cb-6d7e-4894-bf1e-43a8edb8bc0d"
   },
   "outputs": [
    {
     "data": {
      "text/plain": [
       "Human or Demon\n",
       "Demon    18\n",
       "Human    15\n",
       "Name: count, dtype: int64"
      ]
     },
     "execution_count": 107,
     "metadata": {},
     "output_type": "execute_result"
    }
   ],
   "source": [
    "df['Human or Demon'].value_counts()"
   ]
  },
  {
   "cell_type": "code",
   "execution_count": null,
   "metadata": {
    "id": "pxni1JNWgoaP"
   },
   "outputs": [],
   "source": []
  },
  {
   "cell_type": "markdown",
   "metadata": {
    "id": "9disOu73d71k"
   },
   "source": [
    "### Label Encoder"
   ]
  },
  {
   "cell_type": "code",
   "execution_count": 108,
   "metadata": {
    "id": "re3wIKaHtDxe"
   },
   "outputs": [],
   "source": [
    "from sklearn import preprocessing"
   ]
  },
  {
   "cell_type": "code",
   "execution_count": 109,
   "metadata": {
    "id": "amv1wYnqfz44"
   },
   "outputs": [],
   "source": [
    "le = preprocessing.LabelEncoder()\n",
    "le.fit(df['Human or Demon'].tolist())\n",
    "df['label'] = le.transform(df['Human or Demon'].tolist())"
   ]
  },
  {
   "cell_type": "code",
   "execution_count": 110,
   "metadata": {
    "colab": {
     "base_uri": "https://localhost:8080/",
     "height": 206
    },
    "id": "ynKkUmJPm_QK",
    "outputId": "95ed3c71-ede0-4b31-a481-25cf509a813a"
   },
   "outputs": [
    {
     "data": {
      "text/html": [
       "<div>\n",
       "<style scoped>\n",
       "    .dataframe tbody tr th:only-of-type {\n",
       "        vertical-align: middle;\n",
       "    }\n",
       "\n",
       "    .dataframe tbody tr th {\n",
       "        vertical-align: top;\n",
       "    }\n",
       "\n",
       "    .dataframe thead th {\n",
       "        text-align: right;\n",
       "    }\n",
       "</style>\n",
       "<table border=\"1\" class=\"dataframe\">\n",
       "  <thead>\n",
       "    <tr style=\"text-align: right;\">\n",
       "      <th></th>\n",
       "      <th>text</th>\n",
       "      <th>Human or Demon</th>\n",
       "      <th>label</th>\n",
       "    </tr>\n",
       "  </thead>\n",
       "  <tbody>\n",
       "    <tr>\n",
       "      <th>0</th>\n",
       "      <td>Tanjiro Kamado. Tanjiro Kamado uses Water Brea...</td>\n",
       "      <td>Human</td>\n",
       "      <td>1</td>\n",
       "    </tr>\n",
       "    <tr>\n",
       "      <th>1</th>\n",
       "      <td>Zenitsu Agatsuma. Zenitsu Agatsuma wields Thun...</td>\n",
       "      <td>Human</td>\n",
       "      <td>1</td>\n",
       "    </tr>\n",
       "    <tr>\n",
       "      <th>2</th>\n",
       "      <td>Inosuke Hashibira. Inosuke Hashibira developed...</td>\n",
       "      <td>Human</td>\n",
       "      <td>1</td>\n",
       "    </tr>\n",
       "    <tr>\n",
       "      <th>3</th>\n",
       "      <td>Kanao Tsuyuri. Kanao Tsuyuri employs Flower Br...</td>\n",
       "      <td>Human</td>\n",
       "      <td>1</td>\n",
       "    </tr>\n",
       "    <tr>\n",
       "      <th>4</th>\n",
       "      <td>Genya Shinazugawa. Genya Shinazugawa lacks a s...</td>\n",
       "      <td>Human</td>\n",
       "      <td>1</td>\n",
       "    </tr>\n",
       "  </tbody>\n",
       "</table>\n",
       "</div>"
      ],
      "text/plain": [
       "                                                text Human or Demon  label\n",
       "0  Tanjiro Kamado. Tanjiro Kamado uses Water Brea...          Human      1\n",
       "1  Zenitsu Agatsuma. Zenitsu Agatsuma wields Thun...          Human      1\n",
       "2  Inosuke Hashibira. Inosuke Hashibira developed...          Human      1\n",
       "3  Kanao Tsuyuri. Kanao Tsuyuri employs Flower Br...          Human      1\n",
       "4  Genya Shinazugawa. Genya Shinazugawa lacks a s...          Human      1"
      ]
     },
     "execution_count": 110,
     "metadata": {},
     "output_type": "execute_result"
    }
   ],
   "source": [
    "df.head()"
   ]
  },
  {
   "cell_type": "code",
   "execution_count": null,
   "metadata": {
    "id": "ILMz9lki_Ow1"
   },
   "outputs": [],
   "source": []
  },
  {
   "cell_type": "markdown",
   "metadata": {
    "id": "ogOB16rLNsue"
   },
   "source": [
    "# Class weights"
   ]
  },
  {
   "cell_type": "code",
   "execution_count": 111,
   "metadata": {
    "id": "QKnuZq51OHoa"
   },
   "outputs": [],
   "source": [
    "from sklearn.utils.class_weight import compute_class_weight"
   ]
  },
  {
   "cell_type": "code",
   "execution_count": 112,
   "metadata": {
    "id": "jAzn2SMoNslm"
   },
   "outputs": [],
   "source": [
    "class_weights = compute_class_weight('balanced',\n",
    "                     classes=sorted(df['label'].unique().tolist()),\n",
    "                     y=df['label'].tolist()).tolist()"
   ]
  },
  {
   "cell_type": "code",
   "execution_count": 113,
   "metadata": {
    "colab": {
     "base_uri": "https://localhost:8080/"
    },
    "id": "o03hnbgoNsgF",
    "outputId": "b1a0110f-2774-4617-f752-4e8436ad5252"
   },
   "outputs": [
    {
     "data": {
      "text/plain": [
       "[0.9166666666666666, 1.1]"
      ]
     },
     "execution_count": 113,
     "metadata": {},
     "output_type": "execute_result"
    }
   ],
   "source": [
    "class_weights"
   ]
  },
  {
   "cell_type": "code",
   "execution_count": null,
   "metadata": {
    "id": "GaV7Qg5aidp-"
   },
   "outputs": [],
   "source": []
  },
  {
   "cell_type": "markdown",
   "metadata": {
    "id": "5ZNeKpd-nn9Q"
   },
   "source": [
    "### Train/Test Split"
   ]
  },
  {
   "cell_type": "code",
   "execution_count": 114,
   "metadata": {
    "id": "_jkZmwCDs9t9"
   },
   "outputs": [],
   "source": [
    "from sklearn.model_selection import train_test_split"
   ]
  },
  {
   "cell_type": "code",
   "execution_count": 115,
   "metadata": {
    "id": "uKluSPhCfOj6"
   },
   "outputs": [],
   "source": [
    "df_train,df_test = train_test_split(df,test_size=test_size,stratify=df['label'])"
   ]
  },
  {
   "cell_type": "code",
   "execution_count": null,
   "metadata": {
    "id": "q8pz6MpzPwhh"
   },
   "outputs": [],
   "source": []
  },
  {
   "cell_type": "markdown",
   "metadata": {
    "id": "L1JyZmufFzl1"
   },
   "source": [
    "### Convert to Huggingface Dataset"
   ]
  },
  {
   "cell_type": "code",
   "execution_count": 116,
   "metadata": {
    "id": "WXtRtb-6tG2Y"
   },
   "outputs": [],
   "source": [
    "from datasets import Dataset"
   ]
  },
  {
   "cell_type": "code",
   "execution_count": 117,
   "metadata": {
    "id": "tG9-ZMjTd7p0"
   },
   "outputs": [],
   "source": [
    "train_dataset = Dataset.from_pandas(df_train)\n",
    "test_dataset = Dataset.from_pandas(df_test)"
   ]
  },
  {
   "cell_type": "code",
   "execution_count": null,
   "metadata": {
    "id": "wvxREpO3cQaN"
   },
   "outputs": [],
   "source": []
  },
  {
   "cell_type": "markdown",
   "metadata": {
    "id": "zyEUYtjVF6Pz"
   },
   "source": [
    "### Tokenizer"
   ]
  },
  {
   "cell_type": "code",
   "execution_count": 118,
   "metadata": {
    "id": "E31UUF53svVw"
   },
   "outputs": [],
   "source": [
    "from transformers import AutoTokenizer"
   ]
  },
  {
   "cell_type": "code",
   "execution_count": 119,
   "metadata": {
    "id": "bBkVtFI6cQXO"
   },
   "outputs": [
    {
     "name": "stderr",
     "output_type": "stream",
     "text": [
      "C:\\Users\\91971\\Anaconda3\\lib\\site-packages\\huggingface_hub\\file_download.py:1132: FutureWarning: `resume_download` is deprecated and will be removed in version 1.0.0. Downloads always resume when possible. If you want to force a new download, use `force_download=True`.\n",
      "  warnings.warn(\n"
     ]
    }
   ],
   "source": [
    "tokenizer = AutoTokenizer.from_pretrained(model_name)\n",
    "\n",
    "def preprocess_function(examples):\n",
    "    return tokenizer(examples[\"text\"], truncation=True)"
   ]
  },
  {
   "cell_type": "code",
   "execution_count": 120,
   "metadata": {
    "colab": {
     "base_uri": "https://localhost:8080/",
     "height": 17,
     "referenced_widgets": [
      "1979231d211d42c0ad2cb5c635e09675",
      "4fc14979d36644b987ff3b4820618a94",
      "af36f7847fd34537ae8e914ed75c6028",
      "038aed7969ee40e1aa9664c7b21d8b7e",
      "e63b87d6a35a4dfda5e6d9b3bb57a1dc",
      "7ba0cae6bb9b4df4b269823e7a86ff11",
      "215da55a56184f50834b7431be9e8088",
      "0ce4fe3e54a24465bf96c52643a16feb",
      "a7c80a516f924ed5af2c56f74db25c95",
      "6a2f211491f747f2b7c27c50ca03870a",
      "3e0a06eb1a454caf8ab979eac7572624"
     ]
    },
    "id": "TphCc-8ln8ft",
    "outputId": "7a424d04-a88b-463a-9980-ca0f9116806d"
   },
   "outputs": [
    {
     "data": {
      "application/vnd.jupyter.widget-view+json": {
       "model_id": "7650b065151f4975a5638217101fb97e",
       "version_major": 2,
       "version_minor": 0
      },
      "text/plain": [
       "Map:   0%|          | 0/26 [00:00<?, ? examples/s]"
      ]
     },
     "metadata": {},
     "output_type": "display_data"
    }
   ],
   "source": [
    "tokenized_train = train_dataset.map(preprocess_function, batched=True)"
   ]
  },
  {
   "cell_type": "code",
   "execution_count": 121,
   "metadata": {
    "colab": {
     "base_uri": "https://localhost:8080/",
     "height": 17,
     "referenced_widgets": [
      "8cdf761519be4aa2a87a241673670c42",
      "a73a947c8a8b45f892f9331c1133b3f4",
      "223542d99a304612a85df103274385fa",
      "22a5bfa373d04abd865e61ff6d66c6da",
      "3ff2a5bb3f92475e99f9eb6827b0ef3c",
      "0c3879a762114c07af462c93f6c37bd7",
      "5569d05c2292466093e61fc6e4923945",
      "8780f0fbb10447ddb12fa243a7ccc127",
      "b5390ee5be7c408ba59607a5fa8fbeb0",
      "322d491ade644c0790a513457798dda4",
      "66fedd651b15492990032809f8e16309"
     ]
    },
    "id": "1acJjcYVhhOD",
    "outputId": "4004d82c-d9f0-49f8-e2f2-81165124269b"
   },
   "outputs": [
    {
     "data": {
      "application/vnd.jupyter.widget-view+json": {
       "model_id": "dce083fdfb65488485da5933e800c32f",
       "version_major": 2,
       "version_minor": 0
      },
      "text/plain": [
       "Map:   0%|          | 0/7 [00:00<?, ? examples/s]"
      ]
     },
     "metadata": {},
     "output_type": "display_data"
    }
   ],
   "source": [
    "tokenized_test = test_dataset.map(preprocess_function, batched=True)"
   ]
  },
  {
   "cell_type": "code",
   "execution_count": null,
   "metadata": {
    "id": "o-XKHYRmkUxJ"
   },
   "outputs": [],
   "source": []
  },
  {
   "cell_type": "markdown",
   "metadata": {
    "id": "Mi0rbO65GA0J"
   },
   "source": [
    "## Initialize Model"
   ]
  },
  {
   "cell_type": "code",
   "execution_count": 122,
   "metadata": {
    "id": "oEDGToKksr88"
   },
   "outputs": [],
   "source": [
    "from transformers import AutoModelForSequenceClassification"
   ]
  },
  {
   "cell_type": "code",
   "execution_count": 123,
   "metadata": {
    "colab": {
     "base_uri": "https://localhost:8080/"
    },
    "id": "PHe02h-2iJXa",
    "outputId": "b20951ec-3a74-4da4-9888-601a5480a6be"
   },
   "outputs": [
    {
     "name": "stderr",
     "output_type": "stream",
     "text": [
      "Some weights of the model checkpoint at distilbert-base-uncased were not used when initializing DistilBertForSequenceClassification: ['vocab_layer_norm.weight', 'vocab_transform.weight', 'vocab_layer_norm.bias', 'vocab_projector.weight', 'vocab_projector.bias', 'vocab_transform.bias']\n",
      "- This IS expected if you are initializing DistilBertForSequenceClassification from the checkpoint of a model trained on another task or with another architecture (e.g. initializing a BertForSequenceClassification model from a BertForPreTraining model).\n",
      "- This IS NOT expected if you are initializing DistilBertForSequenceClassification from the checkpoint of a model that you expect to be exactly identical (initializing a BertForSequenceClassification model from a BertForSequenceClassification model).\n",
      "Some weights of DistilBertForSequenceClassification were not initialized from the model checkpoint at distilbert-base-uncased and are newly initialized: ['classifier.bias', 'classifier.weight', 'pre_classifier.bias', 'pre_classifier.weight']\n",
      "You should probably TRAIN this model on a down-stream task to be able to use it for predictions and inference.\n"
     ]
    }
   ],
   "source": [
    "model = AutoModelForSequenceClassification.from_pretrained(model_name, num_labels=num_labels)"
   ]
  },
  {
   "cell_type": "code",
   "execution_count": null,
   "metadata": {
    "id": "_KsJ8sMQiNAP"
   },
   "outputs": [],
   "source": []
  },
  {
   "cell_type": "markdown",
   "metadata": {
    "id": "u2HA56SgiX7F"
   },
   "source": [
    "## Train model"
   ]
  },
  {
   "cell_type": "code",
   "execution_count": 124,
   "metadata": {
    "id": "fCASZfttsyy0"
   },
   "outputs": [],
   "source": [
    "from transformers import DataCollatorWithPadding\n",
    "from transformers import TrainingArguments, Trainer\n",
    "import evaluate\n",
    "import numpy as np\n",
    "import torch\n",
    "from torch import nn"
   ]
  },
  {
   "cell_type": "code",
   "execution_count": 125,
   "metadata": {
    "id": "wMyay2U3iJZ7"
   },
   "outputs": [],
   "source": [
    "data_collator = DataCollatorWithPadding(tokenizer=tokenizer)"
   ]
  },
  {
   "cell_type": "code",
   "execution_count": 126,
   "metadata": {
    "id": "TSOJ9Z_4YrMc"
   },
   "outputs": [],
   "source": [
    "metric = evaluate.load(\"accuracy\")\n",
    "\n",
    "def compute_metrics(eval_pred):\n",
    "    logits, labels = eval_pred\n",
    "    predictions = np.argmax(logits, axis=-1)\n",
    "    return metric.compute(predictions=predictions, references=labels)"
   ]
  },
  {
   "cell_type": "code",
   "execution_count": null,
   "metadata": {
    "id": "Jb-ymfefj6a1"
   },
   "outputs": [],
   "source": []
  },
  {
   "cell_type": "code",
   "execution_count": 127,
   "metadata": {
    "id": "lf0ni77YNCQZ"
   },
   "outputs": [],
   "source": [
    "class CustomTrainer(Trainer):\n",
    "    def compute_loss(self, model, inputs, return_outputs=False):\n",
    "        labels = inputs.get(\"labels\")\n",
    "        # forward pass\n",
    "        outputs = model(**inputs)\n",
    "        logits = outputs.get(\"logits\")\n",
    "        # compute custom loss (suppose one has 3 labels with different weights)\n",
    "        loss_fct = nn.CrossEntropyLoss(weight=torch.tensor(class_weights).to(device=device))\n",
    "        loss = loss_fct(logits.view(-1, self.model.config.num_labels), labels.view(-1))\n",
    "        return (loss, outputs) if return_outputs else loss"
   ]
  },
  {
   "cell_type": "code",
   "execution_count": 128,
   "metadata": {
    "id": "UNs2yNXei6oO"
   },
   "outputs": [],
   "source": [
    "training_args = TrainingArguments(\n",
    "    output_dir=\"./results\",\n",
    "    learning_rate=2e-4,\n",
    "    per_device_train_batch_size=8,\n",
    "    per_device_eval_batch_size=8,\n",
    "    num_train_epochs=5,\n",
    "    weight_decay=0.01,\n",
    "    evaluation_strategy = \"epoch\",\n",
    "    logging_strategy=\"epoch\"\n",
    ")\n",
    "\n",
    "trainer = CustomTrainer(\n",
    "    model=model,\n",
    "    args=training_args,\n",
    "    train_dataset=tokenized_train,\n",
    "    eval_dataset=tokenized_test,\n",
    "    tokenizer=tokenizer,\n",
    "    data_collator=data_collator,\n",
    "    compute_metrics=compute_metrics\n",
    "    \n",
    ")\n"
   ]
  },
  {
   "cell_type": "code",
   "execution_count": 129,
   "metadata": {
    "colab": {
     "base_uri": "https://localhost:8080/",
     "height": 343
    },
    "id": "emZZhxQiiZsH",
    "outputId": "5cc58e2f-4c42-4418-b95e-84a8681e2023"
   },
   "outputs": [
    {
     "name": "stderr",
     "output_type": "stream",
     "text": [
      "C:\\Users\\91971\\Anaconda3\\lib\\site-packages\\transformers\\optimization.py:391: FutureWarning: This implementation of AdamW is deprecated and will be removed in a future version. Use the PyTorch implementation torch.optim.AdamW instead, or set `no_deprecation_warning=True` to disable this warning\n",
      "  warnings.warn(\n",
      "You're using a DistilBertTokenizerFast tokenizer. Please note that with a fast tokenizer, using the `__call__` method is faster than using a method to encode the text followed by a call to the `pad` method to get a padded encoding.\n"
     ]
    },
    {
     "data": {
      "text/html": [
       "\n",
       "    <div>\n",
       "      \n",
       "      <progress value='20' max='20' style='width:300px; height:20px; vertical-align: middle;'></progress>\n",
       "      [20/20 00:29, Epoch 5/5]\n",
       "    </div>\n",
       "    <table border=\"1\" class=\"dataframe\">\n",
       "  <thead>\n",
       " <tr style=\"text-align: left;\">\n",
       "      <th>Epoch</th>\n",
       "      <th>Training Loss</th>\n",
       "      <th>Validation Loss</th>\n",
       "      <th>Accuracy</th>\n",
       "    </tr>\n",
       "  </thead>\n",
       "  <tbody>\n",
       "    <tr>\n",
       "      <td>1</td>\n",
       "      <td>0.695500</td>\n",
       "      <td>0.647175</td>\n",
       "      <td>0.857143</td>\n",
       "    </tr>\n",
       "    <tr>\n",
       "      <td>2</td>\n",
       "      <td>0.454900</td>\n",
       "      <td>0.523910</td>\n",
       "      <td>0.714286</td>\n",
       "    </tr>\n",
       "    <tr>\n",
       "      <td>3</td>\n",
       "      <td>0.144300</td>\n",
       "      <td>0.595814</td>\n",
       "      <td>0.714286</td>\n",
       "    </tr>\n",
       "    <tr>\n",
       "      <td>4</td>\n",
       "      <td>0.043800</td>\n",
       "      <td>0.854154</td>\n",
       "      <td>0.714286</td>\n",
       "    </tr>\n",
       "    <tr>\n",
       "      <td>5</td>\n",
       "      <td>0.019800</td>\n",
       "      <td>1.023817</td>\n",
       "      <td>0.714286</td>\n",
       "    </tr>\n",
       "  </tbody>\n",
       "</table><p>"
      ],
      "text/plain": [
       "<IPython.core.display.HTML object>"
      ]
     },
     "metadata": {},
     "output_type": "display_data"
    },
    {
     "data": {
      "text/plain": [
       "TrainOutput(global_step=20, training_loss=0.27164395824074744, metrics={'train_runtime': 31.3317, 'train_samples_per_second': 4.149, 'train_steps_per_second': 0.638, 'total_flos': 1514060970576.0, 'train_loss': 0.27164395824074744, 'epoch': 5.0})"
      ]
     },
     "execution_count": 129,
     "metadata": {},
     "output_type": "execute_result"
    }
   ],
   "source": [
    "trainer.train()"
   ]
  },
  {
   "cell_type": "code",
   "execution_count": 130,
   "metadata": {
    "id": "YDFUsLWfiM-P"
   },
   "outputs": [],
   "source": [
    "trainer.save_model('demon_slayer_model')"
   ]
  },
  {
   "cell_type": "markdown",
   "metadata": {
    "id": "gqZbK3pior3b"
   },
   "source": [
    "## Evaluate Model"
   ]
  },
  {
   "cell_type": "code",
   "execution_count": 131,
   "metadata": {
    "id": "H_4rf_8OtA7n"
   },
   "outputs": [],
   "source": [
    "from sklearn.metrics import classification_report"
   ]
  },
  {
   "cell_type": "markdown",
   "metadata": {},
   "source": [
    "### On Training set"
   ]
  },
  {
   "cell_type": "code",
   "execution_count": 134,
   "metadata": {
    "colab": {
     "base_uri": "https://localhost:8080/",
     "height": 199
    },
    "id": "CLDc2nFAsENk",
    "outputId": "001cc9fc-4e38-455e-be29-8d07680b9ec7"
   },
   "outputs": [
    {
     "data": {
      "text/html": [],
      "text/plain": [
       "<IPython.core.display.HTML object>"
      ]
     },
     "metadata": {},
     "output_type": "display_data"
    },
    {
     "name": "stdout",
     "output_type": "stream",
     "text": [
      "              precision    recall  f1-score   support\n",
      "\n",
      "           0       1.00      1.00      1.00        14\n",
      "           1       1.00      1.00      1.00        12\n",
      "\n",
      "    accuracy                           1.00        26\n",
      "   macro avg       1.00      1.00      1.00        26\n",
      "weighted avg       1.00      1.00      1.00        26\n",
      "\n"
     ]
    }
   ],
   "source": [
    "preds = trainer.predict(tokenized_train)\n",
    "preds = np.argmax(preds[:2][0],axis=1)\n",
    "GT = df_train['label'].tolist()\n",
    "print(classification_report(GT,preds))"
   ]
  },
  {
   "cell_type": "markdown",
   "metadata": {
    "id": "jXO8wmpNsiM2"
   },
   "source": [
    "### On Test set"
   ]
  },
  {
   "cell_type": "code",
   "execution_count": 135,
   "metadata": {
    "colab": {
     "base_uri": "https://localhost:8080/",
     "height": 199
    },
    "id": "OIMu476_cZGn",
    "outputId": "9caf0426-b11d-4fc7-fdbf-f4a25e0b1638"
   },
   "outputs": [
    {
     "data": {
      "text/html": [],
      "text/plain": [
       "<IPython.core.display.HTML object>"
      ]
     },
     "metadata": {},
     "output_type": "display_data"
    },
    {
     "name": "stdout",
     "output_type": "stream",
     "text": [
      "              precision    recall  f1-score   support\n",
      "\n",
      "           0       0.75      0.75      0.75         4\n",
      "           1       0.67      0.67      0.67         3\n",
      "\n",
      "    accuracy                           0.71         7\n",
      "   macro avg       0.71      0.71      0.71         7\n",
      "weighted avg       0.71      0.71      0.71         7\n",
      "\n"
     ]
    }
   ],
   "source": [
    "preds = trainer.predict(tokenized_test)\n",
    "preds = np.argmax(preds[:2][0],axis=1) #preds[:3][1]\n",
    "GT = df_test['label'].tolist()\n",
    "print(classification_report(GT,preds))"
   ]
  },
  {
   "cell_type": "markdown",
   "metadata": {
    "id": "2KqvQWMIcZEH"
   },
   "source": [
    "- Precision: Precision is the ratio of correctly predicted positive observations to the total predicted positives. For class 0, it's 0.75, indicating that 75% of the instances predicted as class 0 were correct. For class 1, it's 0.67, indicating that 67% of the instances predicted as class 1 were correct.\n",
    "\n",
    "- Recall: Recall is the ratio of correctly predicted positive observations to the all observations in actual class. For class 0, it's 0.75, meaning that 75% of the actual class 0 instances were correctly predicted. For class 1, it's 0.67, meaning that 67% of the actual class 1 instances were correctly predicted.\n",
    "\n",
    "- F1-score: F1-score is the weighted average of Precision and Recall. It considers both false positives and false negatives. For class 0, it's 0.75, and for class 1, it's 0.67.\n",
    "\n",
    "- Support: Support is the number of actual occurrences of the class in the specified dataset. For class 0, it's 4, and for class 1, it's 3.\n",
    "\n",
    "- Accuracy: Accuracy is the ratio of correctly predicted observation to the total observations. Here, it's 0.71, meaning 71% of the predictions were correct."
   ]
  },
  {
   "cell_type": "code",
   "execution_count": null,
   "metadata": {
    "id": "BsYwcNzMXftg"
   },
   "outputs": [],
   "source": []
  },
  {
   "cell_type": "code",
   "execution_count": null,
   "metadata": {
    "id": "uhqP5LYnXMyo"
   },
   "outputs": [],
   "source": []
  }
 ],
 "metadata": {
  "accelerator": "GPU",
  "colab": {
   "provenance": []
  },
  "gpuClass": "standard",
  "kernelspec": {
   "display_name": "Python 3",
   "language": "python",
   "name": "python3"
  },
  "language_info": {
   "codemirror_mode": {
    "name": "ipython",
    "version": 3
   },
   "file_extension": ".py",
   "mimetype": "text/x-python",
   "name": "python",
   "nbconvert_exporter": "python",
   "pygments_lexer": "ipython3",
   "version": "3.8.5"
  },
  "widgets": {
   "application/vnd.jupyter.widget-state+json": {
    "038aed7969ee40e1aa9664c7b21d8b7e": {
     "model_module": "@jupyter-widgets/controls",
     "model_module_version": "1.5.0",
     "model_name": "HTMLModel",
     "state": {
      "_dom_classes": [],
      "_model_module": "@jupyter-widgets/controls",
      "_model_module_version": "1.5.0",
      "_model_name": "HTMLModel",
      "_view_count": null,
      "_view_module": "@jupyter-widgets/controls",
      "_view_module_version": "1.5.0",
      "_view_name": "HTMLView",
      "description": "",
      "description_tooltip": null,
      "layout": "IPY_MODEL_6a2f211491f747f2b7c27c50ca03870a",
      "placeholder": "​",
      "style": "IPY_MODEL_3e0a06eb1a454caf8ab979eac7572624",
      "value": " 714/714 [00:00&lt;00:00, 3746.30 examples/s]"
     }
    },
    "0c3879a762114c07af462c93f6c37bd7": {
     "model_module": "@jupyter-widgets/base",
     "model_module_version": "1.2.0",
     "model_name": "LayoutModel",
     "state": {
      "_model_module": "@jupyter-widgets/base",
      "_model_module_version": "1.2.0",
      "_model_name": "LayoutModel",
      "_view_count": null,
      "_view_module": "@jupyter-widgets/base",
      "_view_module_version": "1.2.0",
      "_view_name": "LayoutView",
      "align_content": null,
      "align_items": null,
      "align_self": null,
      "border": null,
      "bottom": null,
      "display": null,
      "flex": null,
      "flex_flow": null,
      "grid_area": null,
      "grid_auto_columns": null,
      "grid_auto_flow": null,
      "grid_auto_rows": null,
      "grid_column": null,
      "grid_gap": null,
      "grid_row": null,
      "grid_template_areas": null,
      "grid_template_columns": null,
      "grid_template_rows": null,
      "height": null,
      "justify_content": null,
      "justify_items": null,
      "left": null,
      "margin": null,
      "max_height": null,
      "max_width": null,
      "min_height": null,
      "min_width": null,
      "object_fit": null,
      "object_position": null,
      "order": null,
      "overflow": null,
      "overflow_x": null,
      "overflow_y": null,
      "padding": null,
      "right": null,
      "top": null,
      "visibility": null,
      "width": null
     }
    },
    "0ce4fe3e54a24465bf96c52643a16feb": {
     "model_module": "@jupyter-widgets/base",
     "model_module_version": "1.2.0",
     "model_name": "LayoutModel",
     "state": {
      "_model_module": "@jupyter-widgets/base",
      "_model_module_version": "1.2.0",
      "_model_name": "LayoutModel",
      "_view_count": null,
      "_view_module": "@jupyter-widgets/base",
      "_view_module_version": "1.2.0",
      "_view_name": "LayoutView",
      "align_content": null,
      "align_items": null,
      "align_self": null,
      "border": null,
      "bottom": null,
      "display": null,
      "flex": null,
      "flex_flow": null,
      "grid_area": null,
      "grid_auto_columns": null,
      "grid_auto_flow": null,
      "grid_auto_rows": null,
      "grid_column": null,
      "grid_gap": null,
      "grid_row": null,
      "grid_template_areas": null,
      "grid_template_columns": null,
      "grid_template_rows": null,
      "height": null,
      "justify_content": null,
      "justify_items": null,
      "left": null,
      "margin": null,
      "max_height": null,
      "max_width": null,
      "min_height": null,
      "min_width": null,
      "object_fit": null,
      "object_position": null,
      "order": null,
      "overflow": null,
      "overflow_x": null,
      "overflow_y": null,
      "padding": null,
      "right": null,
      "top": null,
      "visibility": null,
      "width": null
     }
    },
    "1979231d211d42c0ad2cb5c635e09675": {
     "model_module": "@jupyter-widgets/controls",
     "model_module_version": "1.5.0",
     "model_name": "HBoxModel",
     "state": {
      "_dom_classes": [],
      "_model_module": "@jupyter-widgets/controls",
      "_model_module_version": "1.5.0",
      "_model_name": "HBoxModel",
      "_view_count": null,
      "_view_module": "@jupyter-widgets/controls",
      "_view_module_version": "1.5.0",
      "_view_name": "HBoxView",
      "box_style": "",
      "children": [
       "IPY_MODEL_4fc14979d36644b987ff3b4820618a94",
       "IPY_MODEL_af36f7847fd34537ae8e914ed75c6028",
       "IPY_MODEL_038aed7969ee40e1aa9664c7b21d8b7e"
      ],
      "layout": "IPY_MODEL_e63b87d6a35a4dfda5e6d9b3bb57a1dc"
     }
    },
    "215da55a56184f50834b7431be9e8088": {
     "model_module": "@jupyter-widgets/controls",
     "model_module_version": "1.5.0",
     "model_name": "DescriptionStyleModel",
     "state": {
      "_model_module": "@jupyter-widgets/controls",
      "_model_module_version": "1.5.0",
      "_model_name": "DescriptionStyleModel",
      "_view_count": null,
      "_view_module": "@jupyter-widgets/base",
      "_view_module_version": "1.2.0",
      "_view_name": "StyleView",
      "description_width": ""
     }
    },
    "223542d99a304612a85df103274385fa": {
     "model_module": "@jupyter-widgets/controls",
     "model_module_version": "1.5.0",
     "model_name": "FloatProgressModel",
     "state": {
      "_dom_classes": [],
      "_model_module": "@jupyter-widgets/controls",
      "_model_module_version": "1.5.0",
      "_model_name": "FloatProgressModel",
      "_view_count": null,
      "_view_module": "@jupyter-widgets/controls",
      "_view_module_version": "1.5.0",
      "_view_name": "ProgressView",
      "bar_style": "",
      "description": "",
      "description_tooltip": null,
      "layout": "IPY_MODEL_8780f0fbb10447ddb12fa243a7ccc127",
      "max": 179,
      "min": 0,
      "orientation": "horizontal",
      "style": "IPY_MODEL_b5390ee5be7c408ba59607a5fa8fbeb0",
      "value": 179
     }
    },
    "22a5bfa373d04abd865e61ff6d66c6da": {
     "model_module": "@jupyter-widgets/controls",
     "model_module_version": "1.5.0",
     "model_name": "HTMLModel",
     "state": {
      "_dom_classes": [],
      "_model_module": "@jupyter-widgets/controls",
      "_model_module_version": "1.5.0",
      "_model_name": "HTMLModel",
      "_view_count": null,
      "_view_module": "@jupyter-widgets/controls",
      "_view_module_version": "1.5.0",
      "_view_name": "HTMLView",
      "description": "",
      "description_tooltip": null,
      "layout": "IPY_MODEL_322d491ade644c0790a513457798dda4",
      "placeholder": "​",
      "style": "IPY_MODEL_66fedd651b15492990032809f8e16309",
      "value": " 0/179 [00:00&lt;?, ? examples/s]"
     }
    },
    "322d491ade644c0790a513457798dda4": {
     "model_module": "@jupyter-widgets/base",
     "model_module_version": "1.2.0",
     "model_name": "LayoutModel",
     "state": {
      "_model_module": "@jupyter-widgets/base",
      "_model_module_version": "1.2.0",
      "_model_name": "LayoutModel",
      "_view_count": null,
      "_view_module": "@jupyter-widgets/base",
      "_view_module_version": "1.2.0",
      "_view_name": "LayoutView",
      "align_content": null,
      "align_items": null,
      "align_self": null,
      "border": null,
      "bottom": null,
      "display": null,
      "flex": null,
      "flex_flow": null,
      "grid_area": null,
      "grid_auto_columns": null,
      "grid_auto_flow": null,
      "grid_auto_rows": null,
      "grid_column": null,
      "grid_gap": null,
      "grid_row": null,
      "grid_template_areas": null,
      "grid_template_columns": null,
      "grid_template_rows": null,
      "height": null,
      "justify_content": null,
      "justify_items": null,
      "left": null,
      "margin": null,
      "max_height": null,
      "max_width": null,
      "min_height": null,
      "min_width": null,
      "object_fit": null,
      "object_position": null,
      "order": null,
      "overflow": null,
      "overflow_x": null,
      "overflow_y": null,
      "padding": null,
      "right": null,
      "top": null,
      "visibility": null,
      "width": null
     }
    },
    "3e0a06eb1a454caf8ab979eac7572624": {
     "model_module": "@jupyter-widgets/controls",
     "model_module_version": "1.5.0",
     "model_name": "DescriptionStyleModel",
     "state": {
      "_model_module": "@jupyter-widgets/controls",
      "_model_module_version": "1.5.0",
      "_model_name": "DescriptionStyleModel",
      "_view_count": null,
      "_view_module": "@jupyter-widgets/base",
      "_view_module_version": "1.2.0",
      "_view_name": "StyleView",
      "description_width": ""
     }
    },
    "3ff2a5bb3f92475e99f9eb6827b0ef3c": {
     "model_module": "@jupyter-widgets/base",
     "model_module_version": "1.2.0",
     "model_name": "LayoutModel",
     "state": {
      "_model_module": "@jupyter-widgets/base",
      "_model_module_version": "1.2.0",
      "_model_name": "LayoutModel",
      "_view_count": null,
      "_view_module": "@jupyter-widgets/base",
      "_view_module_version": "1.2.0",
      "_view_name": "LayoutView",
      "align_content": null,
      "align_items": null,
      "align_self": null,
      "border": null,
      "bottom": null,
      "display": null,
      "flex": null,
      "flex_flow": null,
      "grid_area": null,
      "grid_auto_columns": null,
      "grid_auto_flow": null,
      "grid_auto_rows": null,
      "grid_column": null,
      "grid_gap": null,
      "grid_row": null,
      "grid_template_areas": null,
      "grid_template_columns": null,
      "grid_template_rows": null,
      "height": null,
      "justify_content": null,
      "justify_items": null,
      "left": null,
      "margin": null,
      "max_height": null,
      "max_width": null,
      "min_height": null,
      "min_width": null,
      "object_fit": null,
      "object_position": null,
      "order": null,
      "overflow": null,
      "overflow_x": null,
      "overflow_y": null,
      "padding": null,
      "right": null,
      "top": null,
      "visibility": "hidden",
      "width": null
     }
    },
    "4fc14979d36644b987ff3b4820618a94": {
     "model_module": "@jupyter-widgets/controls",
     "model_module_version": "1.5.0",
     "model_name": "HTMLModel",
     "state": {
      "_dom_classes": [],
      "_model_module": "@jupyter-widgets/controls",
      "_model_module_version": "1.5.0",
      "_model_name": "HTMLModel",
      "_view_count": null,
      "_view_module": "@jupyter-widgets/controls",
      "_view_module_version": "1.5.0",
      "_view_name": "HTMLView",
      "description": "",
      "description_tooltip": null,
      "layout": "IPY_MODEL_7ba0cae6bb9b4df4b269823e7a86ff11",
      "placeholder": "​",
      "style": "IPY_MODEL_215da55a56184f50834b7431be9e8088",
      "value": "Map: 100%"
     }
    },
    "5569d05c2292466093e61fc6e4923945": {
     "model_module": "@jupyter-widgets/controls",
     "model_module_version": "1.5.0",
     "model_name": "DescriptionStyleModel",
     "state": {
      "_model_module": "@jupyter-widgets/controls",
      "_model_module_version": "1.5.0",
      "_model_name": "DescriptionStyleModel",
      "_view_count": null,
      "_view_module": "@jupyter-widgets/base",
      "_view_module_version": "1.2.0",
      "_view_name": "StyleView",
      "description_width": ""
     }
    },
    "66fedd651b15492990032809f8e16309": {
     "model_module": "@jupyter-widgets/controls",
     "model_module_version": "1.5.0",
     "model_name": "DescriptionStyleModel",
     "state": {
      "_model_module": "@jupyter-widgets/controls",
      "_model_module_version": "1.5.0",
      "_model_name": "DescriptionStyleModel",
      "_view_count": null,
      "_view_module": "@jupyter-widgets/base",
      "_view_module_version": "1.2.0",
      "_view_name": "StyleView",
      "description_width": ""
     }
    },
    "6a2f211491f747f2b7c27c50ca03870a": {
     "model_module": "@jupyter-widgets/base",
     "model_module_version": "1.2.0",
     "model_name": "LayoutModel",
     "state": {
      "_model_module": "@jupyter-widgets/base",
      "_model_module_version": "1.2.0",
      "_model_name": "LayoutModel",
      "_view_count": null,
      "_view_module": "@jupyter-widgets/base",
      "_view_module_version": "1.2.0",
      "_view_name": "LayoutView",
      "align_content": null,
      "align_items": null,
      "align_self": null,
      "border": null,
      "bottom": null,
      "display": null,
      "flex": null,
      "flex_flow": null,
      "grid_area": null,
      "grid_auto_columns": null,
      "grid_auto_flow": null,
      "grid_auto_rows": null,
      "grid_column": null,
      "grid_gap": null,
      "grid_row": null,
      "grid_template_areas": null,
      "grid_template_columns": null,
      "grid_template_rows": null,
      "height": null,
      "justify_content": null,
      "justify_items": null,
      "left": null,
      "margin": null,
      "max_height": null,
      "max_width": null,
      "min_height": null,
      "min_width": null,
      "object_fit": null,
      "object_position": null,
      "order": null,
      "overflow": null,
      "overflow_x": null,
      "overflow_y": null,
      "padding": null,
      "right": null,
      "top": null,
      "visibility": null,
      "width": null
     }
    },
    "7ba0cae6bb9b4df4b269823e7a86ff11": {
     "model_module": "@jupyter-widgets/base",
     "model_module_version": "1.2.0",
     "model_name": "LayoutModel",
     "state": {
      "_model_module": "@jupyter-widgets/base",
      "_model_module_version": "1.2.0",
      "_model_name": "LayoutModel",
      "_view_count": null,
      "_view_module": "@jupyter-widgets/base",
      "_view_module_version": "1.2.0",
      "_view_name": "LayoutView",
      "align_content": null,
      "align_items": null,
      "align_self": null,
      "border": null,
      "bottom": null,
      "display": null,
      "flex": null,
      "flex_flow": null,
      "grid_area": null,
      "grid_auto_columns": null,
      "grid_auto_flow": null,
      "grid_auto_rows": null,
      "grid_column": null,
      "grid_gap": null,
      "grid_row": null,
      "grid_template_areas": null,
      "grid_template_columns": null,
      "grid_template_rows": null,
      "height": null,
      "justify_content": null,
      "justify_items": null,
      "left": null,
      "margin": null,
      "max_height": null,
      "max_width": null,
      "min_height": null,
      "min_width": null,
      "object_fit": null,
      "object_position": null,
      "order": null,
      "overflow": null,
      "overflow_x": null,
      "overflow_y": null,
      "padding": null,
      "right": null,
      "top": null,
      "visibility": null,
      "width": null
     }
    },
    "8780f0fbb10447ddb12fa243a7ccc127": {
     "model_module": "@jupyter-widgets/base",
     "model_module_version": "1.2.0",
     "model_name": "LayoutModel",
     "state": {
      "_model_module": "@jupyter-widgets/base",
      "_model_module_version": "1.2.0",
      "_model_name": "LayoutModel",
      "_view_count": null,
      "_view_module": "@jupyter-widgets/base",
      "_view_module_version": "1.2.0",
      "_view_name": "LayoutView",
      "align_content": null,
      "align_items": null,
      "align_self": null,
      "border": null,
      "bottom": null,
      "display": null,
      "flex": null,
      "flex_flow": null,
      "grid_area": null,
      "grid_auto_columns": null,
      "grid_auto_flow": null,
      "grid_auto_rows": null,
      "grid_column": null,
      "grid_gap": null,
      "grid_row": null,
      "grid_template_areas": null,
      "grid_template_columns": null,
      "grid_template_rows": null,
      "height": null,
      "justify_content": null,
      "justify_items": null,
      "left": null,
      "margin": null,
      "max_height": null,
      "max_width": null,
      "min_height": null,
      "min_width": null,
      "object_fit": null,
      "object_position": null,
      "order": null,
      "overflow": null,
      "overflow_x": null,
      "overflow_y": null,
      "padding": null,
      "right": null,
      "top": null,
      "visibility": null,
      "width": null
     }
    },
    "8cdf761519be4aa2a87a241673670c42": {
     "model_module": "@jupyter-widgets/controls",
     "model_module_version": "1.5.0",
     "model_name": "HBoxModel",
     "state": {
      "_dom_classes": [],
      "_model_module": "@jupyter-widgets/controls",
      "_model_module_version": "1.5.0",
      "_model_name": "HBoxModel",
      "_view_count": null,
      "_view_module": "@jupyter-widgets/controls",
      "_view_module_version": "1.5.0",
      "_view_name": "HBoxView",
      "box_style": "",
      "children": [
       "IPY_MODEL_a73a947c8a8b45f892f9331c1133b3f4",
       "IPY_MODEL_223542d99a304612a85df103274385fa",
       "IPY_MODEL_22a5bfa373d04abd865e61ff6d66c6da"
      ],
      "layout": "IPY_MODEL_3ff2a5bb3f92475e99f9eb6827b0ef3c"
     }
    },
    "a73a947c8a8b45f892f9331c1133b3f4": {
     "model_module": "@jupyter-widgets/controls",
     "model_module_version": "1.5.0",
     "model_name": "HTMLModel",
     "state": {
      "_dom_classes": [],
      "_model_module": "@jupyter-widgets/controls",
      "_model_module_version": "1.5.0",
      "_model_name": "HTMLModel",
      "_view_count": null,
      "_view_module": "@jupyter-widgets/controls",
      "_view_module_version": "1.5.0",
      "_view_name": "HTMLView",
      "description": "",
      "description_tooltip": null,
      "layout": "IPY_MODEL_0c3879a762114c07af462c93f6c37bd7",
      "placeholder": "​",
      "style": "IPY_MODEL_5569d05c2292466093e61fc6e4923945",
      "value": "Map:   0%"
     }
    },
    "a7c80a516f924ed5af2c56f74db25c95": {
     "model_module": "@jupyter-widgets/controls",
     "model_module_version": "1.5.0",
     "model_name": "ProgressStyleModel",
     "state": {
      "_model_module": "@jupyter-widgets/controls",
      "_model_module_version": "1.5.0",
      "_model_name": "ProgressStyleModel",
      "_view_count": null,
      "_view_module": "@jupyter-widgets/base",
      "_view_module_version": "1.2.0",
      "_view_name": "StyleView",
      "bar_color": null,
      "description_width": ""
     }
    },
    "af36f7847fd34537ae8e914ed75c6028": {
     "model_module": "@jupyter-widgets/controls",
     "model_module_version": "1.5.0",
     "model_name": "FloatProgressModel",
     "state": {
      "_dom_classes": [],
      "_model_module": "@jupyter-widgets/controls",
      "_model_module_version": "1.5.0",
      "_model_name": "FloatProgressModel",
      "_view_count": null,
      "_view_module": "@jupyter-widgets/controls",
      "_view_module_version": "1.5.0",
      "_view_name": "ProgressView",
      "bar_style": "",
      "description": "",
      "description_tooltip": null,
      "layout": "IPY_MODEL_0ce4fe3e54a24465bf96c52643a16feb",
      "max": 714,
      "min": 0,
      "orientation": "horizontal",
      "style": "IPY_MODEL_a7c80a516f924ed5af2c56f74db25c95",
      "value": 714
     }
    },
    "b5390ee5be7c408ba59607a5fa8fbeb0": {
     "model_module": "@jupyter-widgets/controls",
     "model_module_version": "1.5.0",
     "model_name": "ProgressStyleModel",
     "state": {
      "_model_module": "@jupyter-widgets/controls",
      "_model_module_version": "1.5.0",
      "_model_name": "ProgressStyleModel",
      "_view_count": null,
      "_view_module": "@jupyter-widgets/base",
      "_view_module_version": "1.2.0",
      "_view_name": "StyleView",
      "bar_color": null,
      "description_width": ""
     }
    },
    "e63b87d6a35a4dfda5e6d9b3bb57a1dc": {
     "model_module": "@jupyter-widgets/base",
     "model_module_version": "1.2.0",
     "model_name": "LayoutModel",
     "state": {
      "_model_module": "@jupyter-widgets/base",
      "_model_module_version": "1.2.0",
      "_model_name": "LayoutModel",
      "_view_count": null,
      "_view_module": "@jupyter-widgets/base",
      "_view_module_version": "1.2.0",
      "_view_name": "LayoutView",
      "align_content": null,
      "align_items": null,
      "align_self": null,
      "border": null,
      "bottom": null,
      "display": null,
      "flex": null,
      "flex_flow": null,
      "grid_area": null,
      "grid_auto_columns": null,
      "grid_auto_flow": null,
      "grid_auto_rows": null,
      "grid_column": null,
      "grid_gap": null,
      "grid_row": null,
      "grid_template_areas": null,
      "grid_template_columns": null,
      "grid_template_rows": null,
      "height": null,
      "justify_content": null,
      "justify_items": null,
      "left": null,
      "margin": null,
      "max_height": null,
      "max_width": null,
      "min_height": null,
      "min_width": null,
      "object_fit": null,
      "object_position": null,
      "order": null,
      "overflow": null,
      "overflow_x": null,
      "overflow_y": null,
      "padding": null,
      "right": null,
      "top": null,
      "visibility": "hidden",
      "width": null
     }
    }
   }
  }
 },
 "nbformat": 4,
 "nbformat_minor": 1
}
